{
 "cells": [
  {
   "cell_type": "markdown",
   "metadata": {},
   "source": [
    "# 0 前言"
   ]
  },
  {
   "cell_type": "markdown",
   "metadata": {},
   "source": [
    "[赛题“移动设备用户年龄和性别预测”](赛题“移动设备用户年龄和性别预测)可拆分为两个任务：1.年龄预测，2.性别预测。年龄是连续数据，因此任务一是回归任务；性别是标量数据，因此任务二是二分类任务。\n",
    "\n",
    "赛题提供的训练集和测试集都分别包含两个文件：数据集本体，和app_events表，两个表可通过device_id关联起来。device_id是设备的唯一标识，同时一个device_id只与一个用户关联。\n",
    "\n",
    "train.csv中包含device_id、gender、age、phone_brand、device_model五个属性，主要描述了用户本身的信息。在前期的数据挖掘中发现，一个device_id可能对应多个(phone_brand, device_model)；age属性符合右偏分布，数据集中在[11,30]岁之间，峰值出现在29岁，在[30,89]之间分布稀疏，且拖尾较长。\n",
    "\n",
    "train_app_events.csv中包含event_id、app_id、is_installed、is_active、device_id、tag_list、date七个属性，描述了用户使用app的情况，冗余度非常大。本文对该表进行挖掘，根据date属性提取用户的活跃度（见1.3.1）,根据is_installed、is_active、tag_list提取出用户对app的使用偏好指标（见1.3.2），与基本表合并。\n",
    "\n",
    "对于年龄任务，尝试使用KNN和决策树模型，在验证集上测试时，KNN的表现更好。对于性别预测，使用的是线性回归模型，在验证集上，多元回归模型的表现比简单回归模型要好，但在测试集上却没有达到理想的效果，考虑是对训练集过度拟合了。"
   ]
  },
  {
   "cell_type": "markdown",
   "metadata": {},
   "source": [
    "# 1 预处理"
   ]
  },
  {
   "cell_type": "markdown",
   "metadata": {},
   "source": [
    "## 1.1 读入文件"
   ]
  },
  {
   "cell_type": "code",
   "execution_count": 1,
   "metadata": {},
   "outputs": [],
   "source": [
    "#import\n",
    "import pandas as pd\n",
    "import numpy as np\n",
    "\n",
    "from sklearn.model_selection import train_test_split\n",
    "from sklearn.metrics import accuracy_score,mean_absolute_error\n",
    "from sklearn.cluster import KMeans,MiniBatchKMeans"
   ]
  },
  {
   "cell_type": "code",
   "execution_count": 2,
   "metadata": {},
   "outputs": [],
   "source": [
    "# setting\n",
    "pd.set_option(\"display.max_rows\",None)"
   ]
  },
  {
   "cell_type": "code",
   "execution_count": 2,
   "metadata": {},
   "outputs": [
    {
     "data": {
      "text/html": [
       "<div>\n",
       "<style scoped>\n",
       "    .dataframe tbody tr th:only-of-type {\n",
       "        vertical-align: middle;\n",
       "    }\n",
       "\n",
       "    .dataframe tbody tr th {\n",
       "        vertical-align: top;\n",
       "    }\n",
       "\n",
       "    .dataframe thead th {\n",
       "        text-align: right;\n",
       "    }\n",
       "</style>\n",
       "<table border=\"1\" class=\"dataframe\">\n",
       "  <thead>\n",
       "    <tr style=\"text-align: right;\">\n",
       "      <th></th>\n",
       "      <th>device_id</th>\n",
       "      <th>gender</th>\n",
       "      <th>age</th>\n",
       "      <th>phone_brand</th>\n",
       "      <th>device_model</th>\n",
       "    </tr>\n",
       "  </thead>\n",
       "  <tbody>\n",
       "    <tr>\n",
       "      <th>0</th>\n",
       "      <td>0</td>\n",
       "      <td>0</td>\n",
       "      <td>35</td>\n",
       "      <td>0</td>\n",
       "      <td>0</td>\n",
       "    </tr>\n",
       "    <tr>\n",
       "      <th>1</th>\n",
       "      <td>1</td>\n",
       "      <td>1</td>\n",
       "      <td>37</td>\n",
       "      <td>1</td>\n",
       "      <td>1</td>\n",
       "    </tr>\n",
       "    <tr>\n",
       "      <th>2</th>\n",
       "      <td>2</td>\n",
       "      <td>0</td>\n",
       "      <td>32</td>\n",
       "      <td>1</td>\n",
       "      <td>2</td>\n",
       "    </tr>\n",
       "    <tr>\n",
       "      <th>3</th>\n",
       "      <td>3</td>\n",
       "      <td>1</td>\n",
       "      <td>28</td>\n",
       "      <td>1</td>\n",
       "      <td>2</td>\n",
       "    </tr>\n",
       "    <tr>\n",
       "      <th>4</th>\n",
       "      <td>4</td>\n",
       "      <td>0</td>\n",
       "      <td>75</td>\n",
       "      <td>2</td>\n",
       "      <td>3</td>\n",
       "    </tr>\n",
       "  </tbody>\n",
       "</table>\n",
       "</div>"
      ],
      "text/plain": [
       "   device_id  gender  age  phone_brand  device_model\n",
       "0          0       0   35            0             0\n",
       "1          1       1   37            1             1\n",
       "2          2       0   32            1             2\n",
       "3          3       1   28            1             2\n",
       "4          4       0   75            2             3"
      ]
     },
     "execution_count": 2,
     "metadata": {},
     "output_type": "execute_result"
    }
   ],
   "source": [
    "root_path = \"F:/代码仓/python/讯飞_移动设备用户年龄和性别预测/移动设备用户年龄和性别预测_数据集/\"\n",
    "\n",
    "#read trainning files\n",
    "train_file_name = \"train.csv\"\n",
    "train_file_path = root_path + train_file_name\n",
    "\n",
    "data_train = pd.read_csv(train_file_path)\n",
    "data_train.head()"
   ]
  },
  {
   "cell_type": "code",
   "execution_count": 64,
   "metadata": {},
   "outputs": [
    {
     "data": {
      "text/html": [
       "<div>\n",
       "<style scoped>\n",
       "    .dataframe tbody tr th:only-of-type {\n",
       "        vertical-align: middle;\n",
       "    }\n",
       "\n",
       "    .dataframe tbody tr th {\n",
       "        vertical-align: top;\n",
       "    }\n",
       "\n",
       "    .dataframe thead th {\n",
       "        text-align: right;\n",
       "    }\n",
       "</style>\n",
       "<table border=\"1\" class=\"dataframe\">\n",
       "  <thead>\n",
       "    <tr style=\"text-align: right;\">\n",
       "      <th></th>\n",
       "      <th>event_id</th>\n",
       "      <th>app_id</th>\n",
       "      <th>is_installed</th>\n",
       "      <th>is_active</th>\n",
       "      <th>device_id</th>\n",
       "      <th>tag_list</th>\n",
       "      <th>date</th>\n",
       "    </tr>\n",
       "  </thead>\n",
       "  <tbody>\n",
       "    <tr>\n",
       "      <th>0</th>\n",
       "      <td>6</td>\n",
       "      <td>0</td>\n",
       "      <td>1</td>\n",
       "      <td>1</td>\n",
       "      <td>14271</td>\n",
       "      <td>[549, 721, 704, 302, 303, 548, 183]</td>\n",
       "      <td>1</td>\n",
       "    </tr>\n",
       "    <tr>\n",
       "      <th>1</th>\n",
       "      <td>6</td>\n",
       "      <td>1</td>\n",
       "      <td>1</td>\n",
       "      <td>1</td>\n",
       "      <td>14271</td>\n",
       "      <td>[713, 704, 548]</td>\n",
       "      <td>1</td>\n",
       "    </tr>\n",
       "    <tr>\n",
       "      <th>2</th>\n",
       "      <td>6</td>\n",
       "      <td>2</td>\n",
       "      <td>1</td>\n",
       "      <td>1</td>\n",
       "      <td>14271</td>\n",
       "      <td>[549, 710, 704, 548, 172]</td>\n",
       "      <td>1</td>\n",
       "    </tr>\n",
       "    <tr>\n",
       "      <th>3</th>\n",
       "      <td>6</td>\n",
       "      <td>3</td>\n",
       "      <td>1</td>\n",
       "      <td>1</td>\n",
       "      <td>14271</td>\n",
       "      <td>[548, 549]</td>\n",
       "      <td>1</td>\n",
       "    </tr>\n",
       "    <tr>\n",
       "      <th>4</th>\n",
       "      <td>6</td>\n",
       "      <td>4</td>\n",
       "      <td>1</td>\n",
       "      <td>1</td>\n",
       "      <td>14271</td>\n",
       "      <td>[128, 1014]</td>\n",
       "      <td>1</td>\n",
       "    </tr>\n",
       "  </tbody>\n",
       "</table>\n",
       "</div>"
      ],
      "text/plain": [
       "   event_id  app_id  is_installed  is_active  device_id  \\\n",
       "0         6       0             1          1      14271   \n",
       "1         6       1             1          1      14271   \n",
       "2         6       2             1          1      14271   \n",
       "3         6       3             1          1      14271   \n",
       "4         6       4             1          1      14271   \n",
       "\n",
       "                              tag_list  date  \n",
       "0  [549, 721, 704, 302, 303, 548, 183]     1  \n",
       "1                      [713, 704, 548]     1  \n",
       "2            [549, 710, 704, 548, 172]     1  \n",
       "3                           [548, 549]     1  \n",
       "4                          [128, 1014]     1  "
      ]
     },
     "execution_count": 64,
     "metadata": {},
     "output_type": "execute_result"
    }
   ],
   "source": [
    "#read trainning files\n",
    "train_events_file_name = \"train_app_events.csv\"\n",
    "train_events_file_path = root_path + train_events_file_name\n",
    "\n",
    "data_train_events = pd.read_csv(train_events_file_path)\n",
    "data_train_events.head()"
   ]
  },
  {
   "cell_type": "markdown",
   "metadata": {},
   "source": [
    "## 1.2 数据清洗"
   ]
  },
  {
   "cell_type": "code",
   "execution_count": 39,
   "metadata": {},
   "outputs": [
    {
     "name": "stdout",
     "output_type": "stream",
     "text": [
      "<class 'pandas.core.frame.DataFrame'>\n",
      "RangeIndex: 20075 entries, 0 to 20074\n",
      "Data columns (total 7 columns):\n",
      "device_id       20075 non-null int64\n",
      "gender          20075 non-null int64\n",
      "age             20075 non-null int64\n",
      "phone_brand     20075 non-null float64\n",
      "device_model    20075 non-null float64\n",
      "active_index    20001 non-null float64\n",
      "pre_index       20075 non-null float64\n",
      "dtypes: float64(4), int64(3)\n",
      "memory usage: 1.1 MB\n"
     ]
    }
   ],
   "source": [
    "data_train.info()"
   ]
  },
  {
   "cell_type": "markdown",
   "metadata": {},
   "source": [
    "### 1.2.1 空值"
   ]
  },
  {
   "cell_type": "code",
   "execution_count": 6,
   "metadata": {},
   "outputs": [
    {
     "data": {
      "text/html": [
       "<div>\n",
       "<style scoped>\n",
       "    .dataframe tbody tr th:only-of-type {\n",
       "        vertical-align: middle;\n",
       "    }\n",
       "\n",
       "    .dataframe tbody tr th {\n",
       "        vertical-align: top;\n",
       "    }\n",
       "\n",
       "    .dataframe thead th {\n",
       "        text-align: right;\n",
       "    }\n",
       "</style>\n",
       "<table border=\"1\" class=\"dataframe\">\n",
       "  <thead>\n",
       "    <tr style=\"text-align: right;\">\n",
       "      <th></th>\n",
       "      <th>device_id</th>\n",
       "      <th>gender</th>\n",
       "      <th>age</th>\n",
       "      <th>phone_brand</th>\n",
       "      <th>device_model</th>\n",
       "    </tr>\n",
       "  </thead>\n",
       "  <tbody>\n",
       "  </tbody>\n",
       "</table>\n",
       "</div>"
      ],
      "text/plain": [
       "Empty DataFrame\n",
       "Columns: [device_id, gender, age, phone_brand, device_model]\n",
       "Index: []"
      ]
     },
     "execution_count": 6,
     "metadata": {},
     "output_type": "execute_result"
    }
   ],
   "source": [
    "data_train[data_train['device_id'].isnull()==True]"
   ]
  },
  {
   "cell_type": "markdown",
   "metadata": {},
   "source": [
    "无空值"
   ]
  },
  {
   "cell_type": "markdown",
   "metadata": {},
   "source": [
    "### 1.2.2 重复值"
   ]
  },
  {
   "cell_type": "code",
   "execution_count": 7,
   "metadata": {},
   "outputs": [
    {
     "data": {
      "text/plain": [
       "20000"
      ]
     },
     "execution_count": 7,
     "metadata": {},
     "output_type": "execute_result"
    }
   ],
   "source": [
    "data_train['device_id'].unique().shape[0]"
   ]
  },
  {
   "cell_type": "markdown",
   "metadata": {},
   "source": [
    "疑似存在重复行。"
   ]
  },
  {
   "cell_type": "code",
   "execution_count": 4,
   "metadata": {},
   "outputs": [
    {
     "name": "stdout",
     "output_type": "stream",
     "text": [
      "<class 'pandas.core.frame.DataFrame'>\n",
      "Int64Index: 20001 entries, 0 to 20074\n",
      "Data columns (total 5 columns):\n",
      "device_id       20001 non-null int64\n",
      "gender          20001 non-null int64\n",
      "age             20001 non-null int64\n",
      "phone_brand     20001 non-null int64\n",
      "device_model    20001 non-null int64\n",
      "dtypes: int64(5)\n",
      "memory usage: 937.5 KB\n"
     ]
    }
   ],
   "source": [
    "data_train.drop_duplicates(inplace=True)\n",
    "data_train.info()"
   ]
  },
  {
   "cell_type": "code",
   "execution_count": 25,
   "metadata": {},
   "outputs": [
    {
     "data": {
      "text/html": [
       "<div>\n",
       "<style scoped>\n",
       "    .dataframe tbody tr th:only-of-type {\n",
       "        vertical-align: middle;\n",
       "    }\n",
       "\n",
       "    .dataframe tbody tr th {\n",
       "        vertical-align: top;\n",
       "    }\n",
       "\n",
       "    .dataframe thead th {\n",
       "        text-align: right;\n",
       "    }\n",
       "</style>\n",
       "<table border=\"1\" class=\"dataframe\">\n",
       "  <thead>\n",
       "    <tr style=\"text-align: right;\">\n",
       "      <th></th>\n",
       "      <th>device_id</th>\n",
       "      <th>gender</th>\n",
       "      <th>age</th>\n",
       "      <th>phone_brand</th>\n",
       "      <th>device_model</th>\n",
       "    </tr>\n",
       "  </thead>\n",
       "  <tbody>\n",
       "    <tr>\n",
       "      <th>17912</th>\n",
       "      <td>17855</td>\n",
       "      <td>0</td>\n",
       "      <td>18</td>\n",
       "      <td>0</td>\n",
       "      <td>238</td>\n",
       "    </tr>\n",
       "  </tbody>\n",
       "</table>\n",
       "</div>"
      ],
      "text/plain": [
       "       device_id  gender  age  phone_brand  device_model\n",
       "17912      17855       0   18            0           238"
      ]
     },
     "execution_count": 25,
     "metadata": {},
     "output_type": "execute_result"
    }
   ],
   "source": [
    "# data_train[].duplicated(subset=['device_id'])\n",
    "data_train[data_train['device_id'].duplicated()==True].head()"
   ]
  },
  {
   "cell_type": "code",
   "execution_count": 35,
   "metadata": {},
   "outputs": [
    {
     "data": {
      "text/html": [
       "<div>\n",
       "<style scoped>\n",
       "    .dataframe tbody tr th:only-of-type {\n",
       "        vertical-align: middle;\n",
       "    }\n",
       "\n",
       "    .dataframe tbody tr th {\n",
       "        vertical-align: top;\n",
       "    }\n",
       "\n",
       "    .dataframe thead th {\n",
       "        text-align: right;\n",
       "    }\n",
       "</style>\n",
       "<table border=\"1\" class=\"dataframe\">\n",
       "  <thead>\n",
       "    <tr style=\"text-align: right;\">\n",
       "      <th></th>\n",
       "      <th>device_id</th>\n",
       "      <th>gender</th>\n",
       "      <th>age</th>\n",
       "      <th>phone_brand</th>\n",
       "      <th>device_model</th>\n",
       "      <th>active_index</th>\n",
       "    </tr>\n",
       "  </thead>\n",
       "  <tbody>\n",
       "    <tr>\n",
       "      <th>17911</th>\n",
       "      <td>17855</td>\n",
       "      <td>0</td>\n",
       "      <td>18</td>\n",
       "      <td>2</td>\n",
       "      <td>28</td>\n",
       "      <td>316.0</td>\n",
       "    </tr>\n",
       "    <tr>\n",
       "      <th>17912</th>\n",
       "      <td>17855</td>\n",
       "      <td>0</td>\n",
       "      <td>18</td>\n",
       "      <td>0</td>\n",
       "      <td>238</td>\n",
       "      <td>725.0</td>\n",
       "    </tr>\n",
       "  </tbody>\n",
       "</table>\n",
       "</div>"
      ],
      "text/plain": [
       "       device_id  gender  age  phone_brand  device_model  active_index\n",
       "17911      17855       0   18            2            28         316.0\n",
       "17912      17855       0   18            0           238         725.0"
      ]
     },
     "execution_count": 35,
     "metadata": {},
     "output_type": "execute_result"
    }
   ],
   "source": [
    "data_train[data_train['device_id']==17855]"
   ]
  },
  {
   "cell_type": "markdown",
   "metadata": {},
   "source": [
    "去重后发现还有重复的，这个用户有两部手机。重置一下行号，看一下索引是多少。"
   ]
  },
  {
   "cell_type": "code",
   "execution_count": 5,
   "metadata": {},
   "outputs": [
    {
     "data": {
      "text/html": [
       "<div>\n",
       "<style scoped>\n",
       "    .dataframe tbody tr th:only-of-type {\n",
       "        vertical-align: middle;\n",
       "    }\n",
       "\n",
       "    .dataframe tbody tr th {\n",
       "        vertical-align: top;\n",
       "    }\n",
       "\n",
       "    .dataframe thead th {\n",
       "        text-align: right;\n",
       "    }\n",
       "</style>\n",
       "<table border=\"1\" class=\"dataframe\">\n",
       "  <thead>\n",
       "    <tr style=\"text-align: right;\">\n",
       "      <th></th>\n",
       "      <th>device_id</th>\n",
       "      <th>gender</th>\n",
       "      <th>age</th>\n",
       "      <th>phone_brand</th>\n",
       "      <th>device_model</th>\n",
       "    </tr>\n",
       "  </thead>\n",
       "  <tbody>\n",
       "    <tr>\n",
       "      <th>17855</th>\n",
       "      <td>17855</td>\n",
       "      <td>0</td>\n",
       "      <td>18</td>\n",
       "      <td>2</td>\n",
       "      <td>28</td>\n",
       "    </tr>\n",
       "    <tr>\n",
       "      <th>17856</th>\n",
       "      <td>17855</td>\n",
       "      <td>0</td>\n",
       "      <td>18</td>\n",
       "      <td>0</td>\n",
       "      <td>238</td>\n",
       "    </tr>\n",
       "  </tbody>\n",
       "</table>\n",
       "</div>"
      ],
      "text/plain": [
       "       device_id  gender  age  phone_brand  device_model\n",
       "17855      17855       0   18            2            28\n",
       "17856      17855       0   18            0           238"
      ]
     },
     "execution_count": 5,
     "metadata": {},
     "output_type": "execute_result"
    }
   ],
   "source": [
    "# data_train = data_train.drop(['index'],axis=1)\n",
    "data_train = data_train.reset_index(drop=True)\n",
    "data_train[data_train['device_id']==17855]"
   ]
  },
  {
   "cell_type": "code",
   "execution_count": 6,
   "metadata": {},
   "outputs": [],
   "source": [
    "dup_index = 17855"
   ]
  },
  {
   "cell_type": "markdown",
   "metadata": {},
   "source": [
    "### 1.2.3 归一化"
   ]
  },
  {
   "cell_type": "code",
   "execution_count": 5,
   "metadata": {},
   "outputs": [],
   "source": [
    "# 归一化函数\n",
    "def min_max(x,mmin,mmax):\n",
    "    return (x-mmin) / (mmax-mmin)"
   ]
  },
  {
   "cell_type": "code",
   "execution_count": 8,
   "metadata": {},
   "outputs": [],
   "source": [
    "mmin = data_train['phone_brand'].min()\n",
    "mmax = data_train['phone_brand'].max()\n",
    "data_train['phone_brand'] = data_train['phone_brand'].apply(min_max,args=(mmin,mmax))\n",
    "\n",
    "mmin = data_train['device_model'].min()\n",
    "mmax = data_train['device_model'].max()\n",
    "data_train['device_model'] = data_train['device_model'].apply(min_max,args=(mmin,mmax))"
   ]
  },
  {
   "cell_type": "markdown",
   "metadata": {},
   "source": [
    "### 1.2.4 其它"
   ]
  },
  {
   "cell_type": "code",
   "execution_count": 6,
   "metadata": {},
   "outputs": [],
   "source": [
    "# 序列化函数\n",
    "def set_pickle(path, pk):\n",
    "    import pickle\n",
    "    f=open(path,'wb')\n",
    "    pickle.dump(pk,f)\n",
    "    f.close()\n",
    "\n",
    "# 反序列化\n",
    "def get_pickle(path):\n",
    "    import pickle\n",
    "    f=open(path,'rb')\n",
    "    pk = pickle.load(f)\n",
    "    f.close()\n",
    "    return pk"
   ]
  },
  {
   "cell_type": "markdown",
   "metadata": {},
   "source": [
    "对tag_list字段进行预处理，去除夹杂的双引号"
   ]
  },
  {
   "cell_type": "code",
   "execution_count": 10,
   "metadata": {},
   "outputs": [],
   "source": [
    "def delet_quote(row):\n",
    "    left = int(0)\n",
    "    right = len(row)\n",
    "    if row[0]=='\\\"':\n",
    "        left = int(1)\n",
    "    if row[-1]=='\\\"':\n",
    "        right = int(-1)\n",
    "    return row[left:right]\n",
    "data_train_events['tag_list'] = data_train_events['tag_list'].apply(delet_quote)"
   ]
  },
  {
   "cell_type": "markdown",
   "metadata": {},
   "source": [
    "## 1.3 从event数据集提取特征"
   ]
  },
  {
   "cell_type": "code",
   "execution_count": 34,
   "metadata": {},
   "outputs": [
    {
     "name": "stdout",
     "output_type": "stream",
     "text": [
      "<class 'pandas.core.frame.DataFrame'>\n",
      "RangeIndex: 10498144 entries, 0 to 10498143\n",
      "Data columns (total 7 columns):\n",
      "event_id        int64\n",
      "app_id          int64\n",
      "is_installed    int64\n",
      "is_active       int64\n",
      "device_id       int64\n",
      "tag_list        object\n",
      "date            int64\n",
      "dtypes: int64(6), object(1)\n",
      "memory usage: 560.7+ MB\n"
     ]
    }
   ],
   "source": [
    "data_train_events.info()"
   ]
  },
  {
   "cell_type": "markdown",
   "metadata": {},
   "source": [
    "### 1.3.1 提取用户活跃系数"
   ]
  },
  {
   "cell_type": "markdown",
   "metadata": {},
   "source": [
    "用户活跃系数由$c_i$和$a_i$来描述，其中连续因子$c_i$表示设备连续活跃天数（中断则重新计算），$a_i$表示设备第i天的活跃次数。则活跃系数$A$由以下公式定义：\n",
    "\n",
    "$$A=\\frac{1}{N}\\sum_{i=0}^Na_ic_i$$\n",
    "\n",
    "活跃系数将作为特征字段active_index存入训练数据表。由于尺度可能会偏大，所以考虑做归一化处理。"
   ]
  },
  {
   "cell_type": "markdown",
   "metadata": {},
   "source": [
    "#### 训练集"
   ]
  },
  {
   "cell_type": "code",
   "execution_count": 11,
   "metadata": {},
   "outputs": [],
   "source": [
    "data_train_events_gb = data_train_events.groupby(['device_id','date'])['event_id'].count()\n",
    "# data_train_events_gb"
   ]
  },
  {
   "cell_type": "markdown",
   "metadata": {},
   "source": [
    "下面提取每台设备的活跃系数，在训练集中插入为active_index："
   ]
  },
  {
   "cell_type": "code",
   "execution_count": 12,
   "metadata": {},
   "outputs": [
    {
     "data": {
      "text/html": [
       "<div>\n",
       "<style scoped>\n",
       "    .dataframe tbody tr th:only-of-type {\n",
       "        vertical-align: middle;\n",
       "    }\n",
       "\n",
       "    .dataframe tbody tr th {\n",
       "        vertical-align: top;\n",
       "    }\n",
       "\n",
       "    .dataframe thead th {\n",
       "        text-align: right;\n",
       "    }\n",
       "</style>\n",
       "<table border=\"1\" class=\"dataframe\">\n",
       "  <thead>\n",
       "    <tr style=\"text-align: right;\">\n",
       "      <th></th>\n",
       "      <th>device_id</th>\n",
       "      <th>gender</th>\n",
       "      <th>age</th>\n",
       "      <th>phone_brand</th>\n",
       "      <th>device_model</th>\n",
       "      <th>active_index</th>\n",
       "    </tr>\n",
       "  </thead>\n",
       "  <tbody>\n",
       "    <tr>\n",
       "      <th>0</th>\n",
       "      <td>0</td>\n",
       "      <td>0</td>\n",
       "      <td>35</td>\n",
       "      <td>0.000000</td>\n",
       "      <td>0.000000</td>\n",
       "      <td>58</td>\n",
       "    </tr>\n",
       "    <tr>\n",
       "      <th>1</th>\n",
       "      <td>1</td>\n",
       "      <td>1</td>\n",
       "      <td>37</td>\n",
       "      <td>0.011765</td>\n",
       "      <td>0.001125</td>\n",
       "      <td>142</td>\n",
       "    </tr>\n",
       "    <tr>\n",
       "      <th>2</th>\n",
       "      <td>2</td>\n",
       "      <td>0</td>\n",
       "      <td>32</td>\n",
       "      <td>0.011765</td>\n",
       "      <td>0.002250</td>\n",
       "      <td>272</td>\n",
       "    </tr>\n",
       "    <tr>\n",
       "      <th>3</th>\n",
       "      <td>3</td>\n",
       "      <td>1</td>\n",
       "      <td>28</td>\n",
       "      <td>0.011765</td>\n",
       "      <td>0.002250</td>\n",
       "      <td>155</td>\n",
       "    </tr>\n",
       "    <tr>\n",
       "      <th>4</th>\n",
       "      <td>4</td>\n",
       "      <td>0</td>\n",
       "      <td>75</td>\n",
       "      <td>0.023529</td>\n",
       "      <td>0.003375</td>\n",
       "      <td>384</td>\n",
       "    </tr>\n",
       "  </tbody>\n",
       "</table>\n",
       "</div>"
      ],
      "text/plain": [
       "   device_id  gender  age  phone_brand  device_model  active_index\n",
       "0          0       0   35     0.000000      0.000000            58\n",
       "1          1       1   37     0.011765      0.001125           142\n",
       "2          2       0   32     0.011765      0.002250           272\n",
       "3          3       1   28     0.011765      0.002250           155\n",
       "4          4       0   75     0.023529      0.003375           384"
      ]
     },
     "execution_count": 12,
     "metadata": {},
     "output_type": "execute_result"
    }
   ],
   "source": [
    "c = [0 for i in range(0,8)] #连续系数\n",
    "a = [0 for i in range(0,8)] #活跃次数\n",
    "A = np.array([0 for i in range(0,data_train['device_id'].unique().shape[0]+1)])\n",
    "for i in range(0,data_train['device_id'].unique().shape[0]):\n",
    "    if i==dup_index+1:\n",
    "        continue\n",
    "#     活跃日期表\n",
    "    active_date_ls = []\n",
    "    if isinstance(data_train_events_gb[i],int):\n",
    "        active_date_ls = [data_train_events_gb[i]]\n",
    "    elif isinstance(data_train_events_gb[i],np.int64):\n",
    "        active_date_ls = [int(data_train_events_gb[i])]\n",
    "    else:\n",
    "        active_date_ls = data_train_events_gb[i].index.tolist()\n",
    "    ac_date = [1 if d in active_date_ls else 0 for d in range(0,8)]\n",
    "    \n",
    "    # 连续系数\n",
    "    ct = 0 #连续次数\n",
    "    for j in range(1,8):\n",
    "        if ac_date[j]==1 and ac_date[j-1]==1:\n",
    "            ct+=1.0\n",
    "        elif ac_date[j]==1:\n",
    "            ct = 1.0\n",
    "        else:\n",
    "            ct = 0\n",
    "        c[j] = 1.0+0.1*ct\n",
    "    \n",
    "#   每日事件数  ai = data_train_events_gb[device_id,day]\n",
    "    a_d = [data_train_events_gb[i,d] for d in active_date_ls]  \n",
    "    for d in range(0,len(active_date_ls)):\n",
    "        a[active_date_ls[d]] = a_d[d]\n",
    "    \n",
    "    if i<dup_index:\n",
    "        A[i] = np.sum(np.array(a)*np.array(c))\n",
    "    elif i==dup_index:\n",
    "        A[i] = np.sum(np.array(a)*np.array(c))\n",
    "        A[i+1] = np.sum(np.array(a)*np.array(c))\n",
    "    else:\n",
    "        A[i+1] = np.sum(np.array(a)*np.array(c))\n",
    "    \n",
    "# active_index = ai*ci\n",
    "data_train['active_index'] = pd.Series(A)\n",
    "data_train.head()"
   ]
  },
  {
   "cell_type": "code",
   "execution_count": 14,
   "metadata": {},
   "outputs": [
    {
     "data": {
      "text/html": [
       "<div>\n",
       "<style scoped>\n",
       "    .dataframe tbody tr th:only-of-type {\n",
       "        vertical-align: middle;\n",
       "    }\n",
       "\n",
       "    .dataframe tbody tr th {\n",
       "        vertical-align: top;\n",
       "    }\n",
       "\n",
       "    .dataframe thead th {\n",
       "        text-align: right;\n",
       "    }\n",
       "</style>\n",
       "<table border=\"1\" class=\"dataframe\">\n",
       "  <thead>\n",
       "    <tr style=\"text-align: right;\">\n",
       "      <th></th>\n",
       "      <th>device_id</th>\n",
       "      <th>gender</th>\n",
       "      <th>age</th>\n",
       "      <th>phone_brand</th>\n",
       "      <th>device_model</th>\n",
       "      <th>active_index</th>\n",
       "    </tr>\n",
       "  </thead>\n",
       "  <tbody>\n",
       "    <tr>\n",
       "      <th>17855</th>\n",
       "      <td>17855</td>\n",
       "      <td>0</td>\n",
       "      <td>18</td>\n",
       "      <td>0.023529</td>\n",
       "      <td>0.031496</td>\n",
       "      <td>566</td>\n",
       "    </tr>\n",
       "    <tr>\n",
       "      <th>17856</th>\n",
       "      <td>17855</td>\n",
       "      <td>0</td>\n",
       "      <td>18</td>\n",
       "      <td>0.000000</td>\n",
       "      <td>0.267717</td>\n",
       "      <td>566</td>\n",
       "    </tr>\n",
       "  </tbody>\n",
       "</table>\n",
       "</div>"
      ],
      "text/plain": [
       "       device_id  gender  age  phone_brand  device_model  active_index\n",
       "17855      17855       0   18     0.023529      0.031496           566\n",
       "17856      17855       0   18     0.000000      0.267717           566"
      ]
     },
     "execution_count": 14,
     "metadata": {},
     "output_type": "execute_result"
    }
   ],
   "source": [
    "data_train[data_train['device_id']==dup_index]"
   ]
  },
  {
   "cell_type": "markdown",
   "metadata": {},
   "source": [
    "对active_index做一个归一化"
   ]
  },
  {
   "cell_type": "code",
   "execution_count": 13,
   "metadata": {},
   "outputs": [],
   "source": [
    "mmin = data_train['active_index'].min()\n",
    "mmax = data_train['active_index'].max()\n",
    "data_train['active_index'] = data_train['active_index'].apply(min_max,args=(mmin,mmax))"
   ]
  },
  {
   "cell_type": "code",
   "execution_count": 14,
   "metadata": {},
   "outputs": [
    {
     "name": "stdout",
     "output_type": "stream",
     "text": [
      "0 67739\n"
     ]
    }
   ],
   "source": [
    "print(mmin,mmax)"
   ]
  },
  {
   "cell_type": "code",
   "execution_count": 15,
   "metadata": {},
   "outputs": [
    {
     "data": {
      "text/html": [
       "<div>\n",
       "<style scoped>\n",
       "    .dataframe tbody tr th:only-of-type {\n",
       "        vertical-align: middle;\n",
       "    }\n",
       "\n",
       "    .dataframe tbody tr th {\n",
       "        vertical-align: top;\n",
       "    }\n",
       "\n",
       "    .dataframe thead th {\n",
       "        text-align: right;\n",
       "    }\n",
       "</style>\n",
       "<table border=\"1\" class=\"dataframe\">\n",
       "  <thead>\n",
       "    <tr style=\"text-align: right;\">\n",
       "      <th></th>\n",
       "      <th>device_id</th>\n",
       "      <th>gender</th>\n",
       "      <th>age</th>\n",
       "      <th>phone_brand</th>\n",
       "      <th>device_model</th>\n",
       "      <th>active_index</th>\n",
       "    </tr>\n",
       "  </thead>\n",
       "  <tbody>\n",
       "    <tr>\n",
       "      <th>0</th>\n",
       "      <td>0</td>\n",
       "      <td>0</td>\n",
       "      <td>35</td>\n",
       "      <td>0.000000</td>\n",
       "      <td>0.000000</td>\n",
       "      <td>0.000856</td>\n",
       "    </tr>\n",
       "    <tr>\n",
       "      <th>1</th>\n",
       "      <td>1</td>\n",
       "      <td>1</td>\n",
       "      <td>37</td>\n",
       "      <td>0.011765</td>\n",
       "      <td>0.001125</td>\n",
       "      <td>0.002096</td>\n",
       "    </tr>\n",
       "    <tr>\n",
       "      <th>2</th>\n",
       "      <td>2</td>\n",
       "      <td>0</td>\n",
       "      <td>32</td>\n",
       "      <td>0.011765</td>\n",
       "      <td>0.002250</td>\n",
       "      <td>0.004015</td>\n",
       "    </tr>\n",
       "    <tr>\n",
       "      <th>3</th>\n",
       "      <td>3</td>\n",
       "      <td>1</td>\n",
       "      <td>28</td>\n",
       "      <td>0.011765</td>\n",
       "      <td>0.002250</td>\n",
       "      <td>0.002288</td>\n",
       "    </tr>\n",
       "    <tr>\n",
       "      <th>4</th>\n",
       "      <td>4</td>\n",
       "      <td>0</td>\n",
       "      <td>75</td>\n",
       "      <td>0.023529</td>\n",
       "      <td>0.003375</td>\n",
       "      <td>0.005669</td>\n",
       "    </tr>\n",
       "  </tbody>\n",
       "</table>\n",
       "</div>"
      ],
      "text/plain": [
       "   device_id  gender  age  phone_brand  device_model  active_index\n",
       "0          0       0   35     0.000000      0.000000      0.000856\n",
       "1          1       1   37     0.011765      0.001125      0.002096\n",
       "2          2       0   32     0.011765      0.002250      0.004015\n",
       "3          3       1   28     0.011765      0.002250      0.002288\n",
       "4          4       0   75     0.023529      0.003375      0.005669"
      ]
     },
     "execution_count": 15,
     "metadata": {},
     "output_type": "execute_result"
    }
   ],
   "source": [
    "data_train.head()"
   ]
  },
  {
   "cell_type": "markdown",
   "metadata": {},
   "source": [
    "### 1.3.2 提取用户偏好"
   ]
  },
  {
   "cell_type": "markdown",
   "metadata": {},
   "source": [
    "#### 方案三（第二、三次提交使用）"
   ]
  },
  {
   "cell_type": "markdown",
   "metadata": {},
   "source": [
    "在train表新增两个属性app_type、pre_index如下：\n",
    "\n",
    "1. 使用KNN发现tag_list的分类，加入train表为app_type。\n",
    "2. 定义偏好系数pre_index如下\n",
    "\n",
    "$$pre\\_index=\\sum (is\\_installed+1.5is\\_active)$$\n",
    "\n",
    "模型训练时app_type的生成在chap2中进行，下面生成pre_index："
   ]
  },
  {
   "cell_type": "code",
   "execution_count": 14,
   "metadata": {},
   "outputs": [],
   "source": [
    "def generate_preIndex(row):\n",
    "    is_installed = data_train_events[data_train_events['device_id']==row]['is_installed']\n",
    "    is_active = data_train_events[data_train_events['device_id']==row]['is_active']\n",
    "#     print((is_installed + 1.5 * is_active).sum())\n",
    "    return (is_installed + 1.5 * is_active).sum()"
   ]
  },
  {
   "cell_type": "code",
   "execution_count": 15,
   "metadata": {},
   "outputs": [
    {
     "data": {
      "text/plain": [
       "count    20001.000000\n",
       "mean       834.667067\n",
       "std       2073.986174\n",
       "min          2.000000\n",
       "25%         87.500000\n",
       "50%        272.500000\n",
       "75%        808.000000\n",
       "max      63109.500000\n",
       "Name: pre_index, dtype: float64"
      ]
     },
     "execution_count": 15,
     "metadata": {},
     "output_type": "execute_result"
    }
   ],
   "source": [
    "data_train['pre_index'] = data_train['device_id'].apply(generate_preIndex)\n",
    "data_train['pre_index'].describe()"
   ]
  },
  {
   "cell_type": "markdown",
   "metadata": {},
   "source": [
    "从标准差可以看出，不同设备之间的偏好系数差别很大，数值越大越离散。\n",
    "\n",
    "对pre_index进行标准化："
   ]
  },
  {
   "cell_type": "code",
   "execution_count": 16,
   "metadata": {},
   "outputs": [
    {
     "data": {
      "text/html": [
       "<div>\n",
       "<style scoped>\n",
       "    .dataframe tbody tr th:only-of-type {\n",
       "        vertical-align: middle;\n",
       "    }\n",
       "\n",
       "    .dataframe tbody tr th {\n",
       "        vertical-align: top;\n",
       "    }\n",
       "\n",
       "    .dataframe thead th {\n",
       "        text-align: right;\n",
       "    }\n",
       "</style>\n",
       "<table border=\"1\" class=\"dataframe\">\n",
       "  <thead>\n",
       "    <tr style=\"text-align: right;\">\n",
       "      <th></th>\n",
       "      <th>device_id</th>\n",
       "      <th>gender</th>\n",
       "      <th>age</th>\n",
       "      <th>phone_brand</th>\n",
       "      <th>device_model</th>\n",
       "      <th>active_index</th>\n",
       "      <th>pre_index</th>\n",
       "    </tr>\n",
       "  </thead>\n",
       "  <tbody>\n",
       "    <tr>\n",
       "      <th>0</th>\n",
       "      <td>0</td>\n",
       "      <td>0</td>\n",
       "      <td>35</td>\n",
       "      <td>0.000000</td>\n",
       "      <td>0.000000</td>\n",
       "      <td>0.000856</td>\n",
       "      <td>0.000951</td>\n",
       "    </tr>\n",
       "    <tr>\n",
       "      <th>1</th>\n",
       "      <td>1</td>\n",
       "      <td>1</td>\n",
       "      <td>37</td>\n",
       "      <td>0.011765</td>\n",
       "      <td>0.001125</td>\n",
       "      <td>0.002096</td>\n",
       "      <td>0.002131</td>\n",
       "    </tr>\n",
       "    <tr>\n",
       "      <th>2</th>\n",
       "      <td>2</td>\n",
       "      <td>0</td>\n",
       "      <td>32</td>\n",
       "      <td>0.011765</td>\n",
       "      <td>0.002250</td>\n",
       "      <td>0.004015</td>\n",
       "      <td>0.005071</td>\n",
       "    </tr>\n",
       "    <tr>\n",
       "      <th>3</th>\n",
       "      <td>3</td>\n",
       "      <td>1</td>\n",
       "      <td>28</td>\n",
       "      <td>0.011765</td>\n",
       "      <td>0.002250</td>\n",
       "      <td>0.002288</td>\n",
       "      <td>0.003217</td>\n",
       "    </tr>\n",
       "    <tr>\n",
       "      <th>4</th>\n",
       "      <td>4</td>\n",
       "      <td>0</td>\n",
       "      <td>75</td>\n",
       "      <td>0.023529</td>\n",
       "      <td>0.003375</td>\n",
       "      <td>0.005669</td>\n",
       "      <td>0.006742</td>\n",
       "    </tr>\n",
       "  </tbody>\n",
       "</table>\n",
       "</div>"
      ],
      "text/plain": [
       "   device_id  gender  age  phone_brand  device_model  active_index  pre_index\n",
       "0          0       0   35     0.000000      0.000000      0.000856   0.000951\n",
       "1          1       1   37     0.011765      0.001125      0.002096   0.002131\n",
       "2          2       0   32     0.011765      0.002250      0.004015   0.005071\n",
       "3          3       1   28     0.011765      0.002250      0.002288   0.003217\n",
       "4          4       0   75     0.023529      0.003375      0.005669   0.006742"
      ]
     },
     "execution_count": 16,
     "metadata": {},
     "output_type": "execute_result"
    }
   ],
   "source": [
    "mmin = data_train['pre_index'].min()\n",
    "mmax = data_train['pre_index'].max()\n",
    "data_train['pre_index'] = data_train['pre_index'].apply(min_max,args=(mmin,mmax))\n",
    "data_train.head()"
   ]
  },
  {
   "cell_type": "markdown",
   "metadata": {},
   "source": [
    "#### 测试用模型训练"
   ]
  },
  {
   "cell_type": "code",
   "execution_count": 17,
   "metadata": {},
   "outputs": [],
   "source": [
    "def KNN4appType_fit_pred(n_clusters,random_state,array_tag):\n",
    "    mbk = MiniBatchKMeans(n_clusters=n_clusters, random_state=random_state)\n",
    "    mbk.fit(array_tag)\n",
    "    return mbk\n",
    "\n",
    "def get_arr_tag(X):\n",
    "    # 创建array\n",
    "    device_id_list = list(tuple(int(i)for i in X[:,0]))\n",
    "\n",
    "    # 取出训练集范围的标签列表\n",
    "    af = data_train_events[data_train_events['device_id'].isin(device_id_list)].reset_index(drop=True)\n",
    "\n",
    "    w = 26\n",
    "    h = af.shape[0]\n",
    "    array_tag = np.zeros([h,w])\n",
    "\n",
    "    # tag_list标签最值\n",
    "    mmin = 1\n",
    "    mmax = 1021\n",
    "    \n",
    "    # 获取app特征矩阵\n",
    "    for i in range(0,af.shape[0]):\n",
    "        tag_list = af.loc[i,'tag_list']\n",
    "    #     print(type(tag_list))\n",
    "        r = tag_list[1:-1].split(',')\n",
    "        li = [min_max(int(s),mmin,mmax) for s in r] #归一化\n",
    "        for j in range(0,len(li)):\n",
    "            array_tag[i][j] = li[j]\n",
    "    return array_tag"
   ]
  },
  {
   "cell_type": "code",
   "execution_count": 13,
   "metadata": {},
   "outputs": [],
   "source": [
    "'''\n",
    "功能：1.发现app_type 2.在X的基础上添加每类app的偏好系数\n",
    "X：数据集，array\n",
    "return：X_1，array\n",
    "'''\n",
    "def pre_treatment(X, quick_pattern = True, model='part'):    \n",
    "    # 将tag_list转换为特征矩阵\n",
    "#     array_tag = get_arr_tag(X)\n",
    "    # 创建array\n",
    "    device_id_list = list(tuple(int(i)for i in X[:,0]))\n",
    "\n",
    "    # 取出训练集范围的标签列表\n",
    "    af = data_train_events[data_train_events['device_id'].isin(device_id_list)].reset_index(drop=True)\n",
    "\n",
    "    w = 26\n",
    "    h = af.shape[0]\n",
    "    array_tag = np.zeros([h,w])\n",
    "\n",
    "    # tag_list标签最值\n",
    "    mmin = 1\n",
    "    mmax = 1021\n",
    "    \n",
    "    # 获取app特征矩阵\n",
    "    for i in range(0,af.shape[0]):\n",
    "        tag_list = af.loc[i,'tag_list']\n",
    "    #     print(type(tag_list))\n",
    "        r = tag_list[1:-1].split(',')\n",
    "        li = [min_max(int(s),mmin,mmax) for s in r] #归一化\n",
    "        for j in range(0,len(li)):\n",
    "            array_tag[i][j] = li[j]\n",
    "        \n",
    "    # 生成app_type\n",
    "    n_clusters = 20\n",
    "    random_state = 17\n",
    "    batch_size = 100\n",
    "\n",
    "#     if not quick_pattern:\n",
    "#         # 生成模型\n",
    "#         mbk = KNN4appType_fit_pred(n_clusters,random_state,array_tag)\n",
    "#     elif model=='completed':\n",
    "#         mbk = get_pickle('KNN_appType_completed.pkl')\n",
    "#     else:\n",
    "#         # 加载模型\n",
    "#         mbk = get_pickle('KNN_appType.pkl')\n",
    "    mbm_pred = mbk.predict(array_tag)\n",
    "    af['app_type'] = pd.Series(mbm_pred)\n",
    "    \n",
    "    \n",
    "    # 生成每种app的偏好系数\n",
    "    af['pre_index'] = af['is_installed'] + 1.5 * af['is_active']\n",
    "    pre_index_sum = af.groupby(['device_id','app_type'])['pre_index'].agg(np.sum)\n",
    "\n",
    "    t_arr = np.zeros([X.shape[0],20])\n",
    "    for i in range(0,X.shape[0]):\n",
    "        did = int(X[i][0])\n",
    "        for j_i,j in enumerate(list(pre_index_sum[did].index)):\n",
    "            t_arr[i][j] = pre_index_sum[did].values[j_i]\n",
    "\n",
    "    # 归一化\n",
    "    for i in range(0,t_arr.shape[0]):\n",
    "        t_arr[i,:] = (t_arr[i,:] - np.min(t_arr[i,:])) / (np.max(t_arr[i,:]) - np.min(t_arr[i,:]))\n",
    "\n",
    "    # 合并\n",
    "    X_1 = np.c_[X,t_arr]\n",
    "\n",
    "    # 删除第一列\n",
    "    X_1 = np.delete(X_1, 0, axis=1)\n",
    "    X_1[0,:]\n",
    "    \n",
    "    return X_1"
   ]
  },
  {
   "cell_type": "code",
   "execution_count": 19,
   "metadata": {},
   "outputs": [],
   "source": [
    "array_tag = get_arr_tag(data_train.values)"
   ]
  },
  {
   "cell_type": "code",
   "execution_count": 20,
   "metadata": {},
   "outputs": [],
   "source": [
    "set_pickle('KNN_appType_completed_arrTag.pkl',array_tag)"
   ]
  },
  {
   "cell_type": "code",
   "execution_count": null,
   "metadata": {},
   "outputs": [],
   "source": [
    "array_tag = get_pickleckle('KNN_appType_completed_arrTag.pkl')"
   ]
  },
  {
   "cell_type": "code",
   "execution_count": 24,
   "metadata": {},
   "outputs": [],
   "source": [
    "n_clusters = 20\n",
    "random_state = 17\n",
    "batch_size = 100\n",
    "\n",
    "mbk = KNN4appType_fit_pred(n_clusters,random_state,array_tag)"
   ]
  },
  {
   "cell_type": "code",
   "execution_count": 25,
   "metadata": {},
   "outputs": [],
   "source": [
    "set_pickle('KNN_appType_completed.pkl',mbk)"
   ]
  },
  {
   "cell_type": "code",
   "execution_count": 26,
   "metadata": {},
   "outputs": [
    {
     "data": {
      "text/plain": [
       "array([17,  1,  7, ..., 13,  4, 19])"
      ]
     },
     "execution_count": 26,
     "metadata": {},
     "output_type": "execute_result"
    }
   ],
   "source": [
    "mbk.predict(array_tag)"
   ]
  },
  {
   "cell_type": "markdown",
   "metadata": {},
   "source": [
    "#### 方案二（第一次提交使用）\n",
    "\n",
    "方案一维数爆炸了，对思路进行改良。\n",
    "\n",
    "tag_list按device_id分组后可以得到若干(1, 26)列的向量，考虑这些向量的均值来表示用户偏好的应用类型。"
   ]
  },
  {
   "cell_type": "code",
   "execution_count": 16,
   "metadata": {},
   "outputs": [],
   "source": [
    "def toArray(li):\n",
    "    arr_t = np.zeros([1,26])\n",
    "    for j in range(0,len(li)):\n",
    "        arr_t[0][j] = li[j]\n",
    "    return arr_t\n",
    "# pd.DataFrame(list_tag).head()"
   ]
  },
  {
   "cell_type": "code",
   "execution_count": 17,
   "metadata": {},
   "outputs": [],
   "source": [
    "array_tag = np.zeros([20000,26])\n",
    "mmin = 1\n",
    "mmax = 1021"
   ]
  },
  {
   "cell_type": "code",
   "execution_count": 19,
   "metadata": {},
   "outputs": [],
   "source": [
    "for i in range(15000,20000):\n",
    "    #得到第i个设备的tag_list\n",
    "    tag_list = data_train_events[data_train_events['device_id']==i]['tag_list']\n",
    "    #将tag_list转化为向量，并求均值\n",
    "    for row in tag_list:\n",
    "        r = row[1:-1].split(',')\n",
    "        array_tag[i] += toArray([min_max(int(s),mmin,mmax) for s in r])[0]\n",
    "    array_tag[i] /= len(tag_list)"
   ]
  },
  {
   "cell_type": "code",
   "execution_count": 20,
   "metadata": {},
   "outputs": [],
   "source": [
    "import pickle\n",
    "f=open('device_apptag_arr.pickle','wb')\n",
    "pickle.dump(array_tag,f)\n",
    "f.close()"
   ]
  },
  {
   "cell_type": "code",
   "execution_count": 18,
   "metadata": {},
   "outputs": [],
   "source": [
    "# 读取\n",
    "import pickle\n",
    "f=open('device_apptag_arr.pickle','rb')\n",
    "array_tag = pickle.load(f)\n",
    "f.close()"
   ]
  },
  {
   "cell_type": "markdown",
   "metadata": {},
   "source": [
    "合并向量和train数据集。"
   ]
  },
  {
   "cell_type": "code",
   "execution_count": 21,
   "metadata": {},
   "outputs": [
    {
     "data": {
      "text/html": [
       "<div>\n",
       "<style scoped>\n",
       "    .dataframe tbody tr th:only-of-type {\n",
       "        vertical-align: middle;\n",
       "    }\n",
       "\n",
       "    .dataframe tbody tr th {\n",
       "        vertical-align: top;\n",
       "    }\n",
       "\n",
       "    .dataframe thead th {\n",
       "        text-align: right;\n",
       "    }\n",
       "</style>\n",
       "<table border=\"1\" class=\"dataframe\">\n",
       "  <thead>\n",
       "    <tr style=\"text-align: right;\">\n",
       "      <th></th>\n",
       "      <th>device_id</th>\n",
       "      <th>gender</th>\n",
       "      <th>age</th>\n",
       "      <th>phone_brand</th>\n",
       "      <th>device_model</th>\n",
       "      <th>active_index</th>\n",
       "      <th>0</th>\n",
       "      <th>1</th>\n",
       "      <th>2</th>\n",
       "      <th>3</th>\n",
       "      <th>...</th>\n",
       "      <th>16</th>\n",
       "      <th>17</th>\n",
       "      <th>18</th>\n",
       "      <th>19</th>\n",
       "      <th>20</th>\n",
       "      <th>21</th>\n",
       "      <th>22</th>\n",
       "      <th>23</th>\n",
       "      <th>24</th>\n",
       "      <th>25</th>\n",
       "    </tr>\n",
       "  </thead>\n",
       "  <tbody>\n",
       "    <tr>\n",
       "      <th>0</th>\n",
       "      <td>0</td>\n",
       "      <td>0</td>\n",
       "      <td>35</td>\n",
       "      <td>0</td>\n",
       "      <td>0</td>\n",
       "      <td>58.0</td>\n",
       "      <td>0.464391</td>\n",
       "      <td>0.461783</td>\n",
       "      <td>0.376711</td>\n",
       "      <td>0.304329</td>\n",
       "      <td>...</td>\n",
       "      <td>0.011006</td>\n",
       "      <td>0.017055</td>\n",
       "      <td>0.003589</td>\n",
       "      <td>0.004107</td>\n",
       "      <td>0.010118</td>\n",
       "      <td>0.016796</td>\n",
       "      <td>0.017222</td>\n",
       "      <td>0.0</td>\n",
       "      <td>0.0</td>\n",
       "      <td>0.0</td>\n",
       "    </tr>\n",
       "    <tr>\n",
       "      <th>1</th>\n",
       "      <td>1</td>\n",
       "      <td>1</td>\n",
       "      <td>37</td>\n",
       "      <td>1</td>\n",
       "      <td>1</td>\n",
       "      <td>142.0</td>\n",
       "      <td>0.563496</td>\n",
       "      <td>0.553062</td>\n",
       "      <td>0.442907</td>\n",
       "      <td>0.371060</td>\n",
       "      <td>...</td>\n",
       "      <td>0.000000</td>\n",
       "      <td>0.000000</td>\n",
       "      <td>0.000000</td>\n",
       "      <td>0.000000</td>\n",
       "      <td>0.000000</td>\n",
       "      <td>0.000000</td>\n",
       "      <td>0.000000</td>\n",
       "      <td>0.0</td>\n",
       "      <td>0.0</td>\n",
       "      <td>0.0</td>\n",
       "    </tr>\n",
       "    <tr>\n",
       "      <th>2</th>\n",
       "      <td>2</td>\n",
       "      <td>0</td>\n",
       "      <td>32</td>\n",
       "      <td>1</td>\n",
       "      <td>2</td>\n",
       "      <td>272.0</td>\n",
       "      <td>0.506684</td>\n",
       "      <td>0.540043</td>\n",
       "      <td>0.477184</td>\n",
       "      <td>0.376362</td>\n",
       "      <td>...</td>\n",
       "      <td>0.000000</td>\n",
       "      <td>0.000000</td>\n",
       "      <td>0.000000</td>\n",
       "      <td>0.000000</td>\n",
       "      <td>0.000000</td>\n",
       "      <td>0.000000</td>\n",
       "      <td>0.000000</td>\n",
       "      <td>0.0</td>\n",
       "      <td>0.0</td>\n",
       "      <td>0.0</td>\n",
       "    </tr>\n",
       "    <tr>\n",
       "      <th>3</th>\n",
       "      <td>3</td>\n",
       "      <td>1</td>\n",
       "      <td>28</td>\n",
       "      <td>1</td>\n",
       "      <td>2</td>\n",
       "      <td>155.0</td>\n",
       "      <td>0.557951</td>\n",
       "      <td>0.581768</td>\n",
       "      <td>0.460595</td>\n",
       "      <td>0.295997</td>\n",
       "      <td>...</td>\n",
       "      <td>0.000000</td>\n",
       "      <td>0.000000</td>\n",
       "      <td>0.000000</td>\n",
       "      <td>0.000000</td>\n",
       "      <td>0.000000</td>\n",
       "      <td>0.000000</td>\n",
       "      <td>0.000000</td>\n",
       "      <td>0.0</td>\n",
       "      <td>0.0</td>\n",
       "      <td>0.0</td>\n",
       "    </tr>\n",
       "    <tr>\n",
       "      <th>4</th>\n",
       "      <td>4</td>\n",
       "      <td>0</td>\n",
       "      <td>75</td>\n",
       "      <td>2</td>\n",
       "      <td>3</td>\n",
       "      <td>384.0</td>\n",
       "      <td>0.526053</td>\n",
       "      <td>0.563230</td>\n",
       "      <td>0.467611</td>\n",
       "      <td>0.335094</td>\n",
       "      <td>...</td>\n",
       "      <td>0.026713</td>\n",
       "      <td>0.027334</td>\n",
       "      <td>0.014664</td>\n",
       "      <td>0.007080</td>\n",
       "      <td>0.000000</td>\n",
       "      <td>0.000000</td>\n",
       "      <td>0.000000</td>\n",
       "      <td>0.0</td>\n",
       "      <td>0.0</td>\n",
       "      <td>0.0</td>\n",
       "    </tr>\n",
       "  </tbody>\n",
       "</table>\n",
       "<p>5 rows × 32 columns</p>\n",
       "</div>"
      ],
      "text/plain": [
       "   device_id  gender  age  phone_brand  device_model  active_index         0  \\\n",
       "0          0       0   35            0             0          58.0  0.464391   \n",
       "1          1       1   37            1             1         142.0  0.563496   \n",
       "2          2       0   32            1             2         272.0  0.506684   \n",
       "3          3       1   28            1             2         155.0  0.557951   \n",
       "4          4       0   75            2             3         384.0  0.526053   \n",
       "\n",
       "          1         2         3  ...        16        17        18        19  \\\n",
       "0  0.461783  0.376711  0.304329  ...  0.011006  0.017055  0.003589  0.004107   \n",
       "1  0.553062  0.442907  0.371060  ...  0.000000  0.000000  0.000000  0.000000   \n",
       "2  0.540043  0.477184  0.376362  ...  0.000000  0.000000  0.000000  0.000000   \n",
       "3  0.581768  0.460595  0.295997  ...  0.000000  0.000000  0.000000  0.000000   \n",
       "4  0.563230  0.467611  0.335094  ...  0.026713  0.027334  0.014664  0.007080   \n",
       "\n",
       "         20        21        22   23   24   25  \n",
       "0  0.010118  0.016796  0.017222  0.0  0.0  0.0  \n",
       "1  0.000000  0.000000  0.000000  0.0  0.0  0.0  \n",
       "2  0.000000  0.000000  0.000000  0.0  0.0  0.0  \n",
       "3  0.000000  0.000000  0.000000  0.0  0.0  0.0  \n",
       "4  0.000000  0.000000  0.000000  0.0  0.0  0.0  \n",
       "\n",
       "[5 rows x 32 columns]"
      ]
     },
     "execution_count": 21,
     "metadata": {},
     "output_type": "execute_result"
    }
   ],
   "source": [
    "t = data_train.copy(deep=True)\n",
    "pd.concat([t,pd.DataFrame(array_tag)], axis=1).head()"
   ]
  },
  {
   "cell_type": "markdown",
   "metadata": {},
   "source": [
    "先测试一下，可以。下面正式合并。"
   ]
  },
  {
   "cell_type": "code",
   "execution_count": 19,
   "metadata": {},
   "outputs": [
    {
     "data": {
      "text/html": [
       "<div>\n",
       "<style scoped>\n",
       "    .dataframe tbody tr th:only-of-type {\n",
       "        vertical-align: middle;\n",
       "    }\n",
       "\n",
       "    .dataframe tbody tr th {\n",
       "        vertical-align: top;\n",
       "    }\n",
       "\n",
       "    .dataframe thead th {\n",
       "        text-align: right;\n",
       "    }\n",
       "</style>\n",
       "<table border=\"1\" class=\"dataframe\">\n",
       "  <thead>\n",
       "    <tr style=\"text-align: right;\">\n",
       "      <th></th>\n",
       "      <th>device_id</th>\n",
       "      <th>gender</th>\n",
       "      <th>age</th>\n",
       "      <th>phone_brand</th>\n",
       "      <th>device_model</th>\n",
       "      <th>active_index</th>\n",
       "      <th>0</th>\n",
       "      <th>1</th>\n",
       "      <th>2</th>\n",
       "      <th>3</th>\n",
       "      <th>...</th>\n",
       "      <th>16</th>\n",
       "      <th>17</th>\n",
       "      <th>18</th>\n",
       "      <th>19</th>\n",
       "      <th>20</th>\n",
       "      <th>21</th>\n",
       "      <th>22</th>\n",
       "      <th>23</th>\n",
       "      <th>24</th>\n",
       "      <th>25</th>\n",
       "    </tr>\n",
       "  </thead>\n",
       "  <tbody>\n",
       "    <tr>\n",
       "      <th>0</th>\n",
       "      <td>0</td>\n",
       "      <td>0</td>\n",
       "      <td>35</td>\n",
       "      <td>0.000000</td>\n",
       "      <td>0.000000</td>\n",
       "      <td>0.000856</td>\n",
       "      <td>0.464391</td>\n",
       "      <td>0.461783</td>\n",
       "      <td>0.376711</td>\n",
       "      <td>0.304329</td>\n",
       "      <td>...</td>\n",
       "      <td>0.011006</td>\n",
       "      <td>0.017055</td>\n",
       "      <td>0.003589</td>\n",
       "      <td>0.004107</td>\n",
       "      <td>0.010118</td>\n",
       "      <td>0.016796</td>\n",
       "      <td>0.017222</td>\n",
       "      <td>0.0</td>\n",
       "      <td>0.0</td>\n",
       "      <td>0.0</td>\n",
       "    </tr>\n",
       "    <tr>\n",
       "      <th>1</th>\n",
       "      <td>1</td>\n",
       "      <td>1</td>\n",
       "      <td>37</td>\n",
       "      <td>0.011765</td>\n",
       "      <td>0.001125</td>\n",
       "      <td>0.002096</td>\n",
       "      <td>0.563496</td>\n",
       "      <td>0.553062</td>\n",
       "      <td>0.442907</td>\n",
       "      <td>0.371060</td>\n",
       "      <td>...</td>\n",
       "      <td>0.000000</td>\n",
       "      <td>0.000000</td>\n",
       "      <td>0.000000</td>\n",
       "      <td>0.000000</td>\n",
       "      <td>0.000000</td>\n",
       "      <td>0.000000</td>\n",
       "      <td>0.000000</td>\n",
       "      <td>0.0</td>\n",
       "      <td>0.0</td>\n",
       "      <td>0.0</td>\n",
       "    </tr>\n",
       "    <tr>\n",
       "      <th>2</th>\n",
       "      <td>2</td>\n",
       "      <td>0</td>\n",
       "      <td>32</td>\n",
       "      <td>0.011765</td>\n",
       "      <td>0.002250</td>\n",
       "      <td>0.004015</td>\n",
       "      <td>0.506684</td>\n",
       "      <td>0.540043</td>\n",
       "      <td>0.477184</td>\n",
       "      <td>0.376362</td>\n",
       "      <td>...</td>\n",
       "      <td>0.000000</td>\n",
       "      <td>0.000000</td>\n",
       "      <td>0.000000</td>\n",
       "      <td>0.000000</td>\n",
       "      <td>0.000000</td>\n",
       "      <td>0.000000</td>\n",
       "      <td>0.000000</td>\n",
       "      <td>0.0</td>\n",
       "      <td>0.0</td>\n",
       "      <td>0.0</td>\n",
       "    </tr>\n",
       "    <tr>\n",
       "      <th>3</th>\n",
       "      <td>3</td>\n",
       "      <td>1</td>\n",
       "      <td>28</td>\n",
       "      <td>0.011765</td>\n",
       "      <td>0.002250</td>\n",
       "      <td>0.002288</td>\n",
       "      <td>0.557951</td>\n",
       "      <td>0.581768</td>\n",
       "      <td>0.460595</td>\n",
       "      <td>0.295997</td>\n",
       "      <td>...</td>\n",
       "      <td>0.000000</td>\n",
       "      <td>0.000000</td>\n",
       "      <td>0.000000</td>\n",
       "      <td>0.000000</td>\n",
       "      <td>0.000000</td>\n",
       "      <td>0.000000</td>\n",
       "      <td>0.000000</td>\n",
       "      <td>0.0</td>\n",
       "      <td>0.0</td>\n",
       "      <td>0.0</td>\n",
       "    </tr>\n",
       "    <tr>\n",
       "      <th>4</th>\n",
       "      <td>4</td>\n",
       "      <td>0</td>\n",
       "      <td>75</td>\n",
       "      <td>0.023529</td>\n",
       "      <td>0.003375</td>\n",
       "      <td>0.005669</td>\n",
       "      <td>0.526053</td>\n",
       "      <td>0.563230</td>\n",
       "      <td>0.467611</td>\n",
       "      <td>0.335094</td>\n",
       "      <td>...</td>\n",
       "      <td>0.026713</td>\n",
       "      <td>0.027334</td>\n",
       "      <td>0.014664</td>\n",
       "      <td>0.007080</td>\n",
       "      <td>0.000000</td>\n",
       "      <td>0.000000</td>\n",
       "      <td>0.000000</td>\n",
       "      <td>0.0</td>\n",
       "      <td>0.0</td>\n",
       "      <td>0.0</td>\n",
       "    </tr>\n",
       "  </tbody>\n",
       "</table>\n",
       "<p>5 rows × 32 columns</p>\n",
       "</div>"
      ],
      "text/plain": [
       "   device_id  gender  age  phone_brand  device_model  active_index         0  \\\n",
       "0          0       0   35     0.000000      0.000000      0.000856  0.464391   \n",
       "1          1       1   37     0.011765      0.001125      0.002096  0.563496   \n",
       "2          2       0   32     0.011765      0.002250      0.004015  0.506684   \n",
       "3          3       1   28     0.011765      0.002250      0.002288  0.557951   \n",
       "4          4       0   75     0.023529      0.003375      0.005669  0.526053   \n",
       "\n",
       "          1         2         3  ...        16        17        18        19  \\\n",
       "0  0.461783  0.376711  0.304329  ...  0.011006  0.017055  0.003589  0.004107   \n",
       "1  0.553062  0.442907  0.371060  ...  0.000000  0.000000  0.000000  0.000000   \n",
       "2  0.540043  0.477184  0.376362  ...  0.000000  0.000000  0.000000  0.000000   \n",
       "3  0.581768  0.460595  0.295997  ...  0.000000  0.000000  0.000000  0.000000   \n",
       "4  0.563230  0.467611  0.335094  ...  0.026713  0.027334  0.014664  0.007080   \n",
       "\n",
       "         20        21        22   23   24   25  \n",
       "0  0.010118  0.016796  0.017222  0.0  0.0  0.0  \n",
       "1  0.000000  0.000000  0.000000  0.0  0.0  0.0  \n",
       "2  0.000000  0.000000  0.000000  0.0  0.0  0.0  \n",
       "3  0.000000  0.000000  0.000000  0.0  0.0  0.0  \n",
       "4  0.000000  0.000000  0.000000  0.0  0.0  0.0  \n",
       "\n",
       "[5 rows x 32 columns]"
      ]
     },
     "execution_count": 19,
     "metadata": {},
     "output_type": "execute_result"
    }
   ],
   "source": [
    "array_tag = np.insert(array_tag,dup_index,array_tag[dup_index-1],axis=0)\n",
    "data_train = pd.concat([data_train,pd.DataFrame(array_tag)], axis=1)\n",
    "data_train.head()"
   ]
  },
  {
   "cell_type": "markdown",
   "metadata": {},
   "source": [
    "#### 方案一\n",
    "\n",
    "按device_id合并tag_list，作为特征插入训练集。"
   ]
  },
  {
   "cell_type": "code",
   "execution_count": 8,
   "metadata": {},
   "outputs": [],
   "source": [
    "# 归一化函数\n",
    "def min_max(x,mmin,mmax):\n",
    "    return (x-mmin) / (mmax-mmin)\n",
    "    \n",
    "def my_toList(tag_list,mmin,mmax):\n",
    "    le = []\n",
    "    for row in tag_list:\n",
    "        r = row[1:-1].split(',')\n",
    "        le.extend([min_max(int(s),mmin,mmax) for s in r])\n",
    "    return le\n",
    "# pd.DataFrame(list_tag).head()"
   ]
  },
  {
   "cell_type": "code",
   "execution_count": 15,
   "metadata": {},
   "outputs": [],
   "source": [
    "list_tag = []"
   ]
  },
  {
   "cell_type": "markdown",
   "metadata": {},
   "source": [
    "内存不够，手动分批。0-15000,15000-20000"
   ]
  },
  {
   "cell_type": "code",
   "execution_count": 18,
   "metadata": {},
   "outputs": [],
   "source": [
    "# for i in range(0,data_train['device_id'].unique().shape[0]):\n",
    "temp_list = []\n",
    "for i in range(15000,20000):\n",
    "    temp_list.append(my_toList(data_train_events[data_train_events['device_id']==i]['tag_list'],1,1021))"
   ]
  },
  {
   "cell_type": "code",
   "execution_count": 19,
   "metadata": {},
   "outputs": [],
   "source": [
    "list_tag.extend(temp_list)"
   ]
  },
  {
   "cell_type": "code",
   "execution_count": 20,
   "metadata": {},
   "outputs": [
    {
     "data": {
      "text/plain": [
       "20000"
      ]
     },
     "execution_count": 20,
     "metadata": {},
     "output_type": "execute_result"
    }
   ],
   "source": [
    "len(list_tag)"
   ]
  },
  {
   "cell_type": "markdown",
   "metadata": {},
   "source": [
    "tag_list整合成的列表非常之大，以防数据丢失、提高运行效率，这边先把做好的数据序列化一下："
   ]
  },
  {
   "cell_type": "code",
   "execution_count": 22,
   "metadata": {},
   "outputs": [],
   "source": [
    "import pickle\n",
    "f=open('device_apptag.pickle','wb')\n",
    "pickle.dump(list_tag,f)\n",
    "f.close()"
   ]
  },
  {
   "cell_type": "code",
   "execution_count": 3,
   "metadata": {},
   "outputs": [],
   "source": [
    "# 读取\n",
    "import pickle\n",
    "f=open('device_apptag.pickle','rb')\n",
    "list_tag = pickle.load(f)\n",
    "f.close()"
   ]
  },
  {
   "cell_type": "markdown",
   "metadata": {},
   "source": [
    "将特征向量拼到训练集中。"
   ]
  },
  {
   "cell_type": "code",
   "execution_count": 5,
   "metadata": {},
   "outputs": [
    {
     "data": {
      "text/plain": [
       "296593"
      ]
     },
     "execution_count": 5,
     "metadata": {},
     "output_type": "execute_result"
    }
   ],
   "source": [
    "max_len = -1\n",
    "for li in list_tag:\n",
    "    li_len = len(li)\n",
    "    if li_len>max_len:\n",
    "        max_len = li_len\n",
    "\n",
    "max_len"
   ]
  },
  {
   "cell_type": "code",
   "execution_count": 4,
   "metadata": {},
   "outputs": [
    {
     "ename": "MemoryError",
     "evalue": "",
     "output_type": "error",
     "traceback": [
      "\u001b[1;31m---------------------------------------------------------------------------\u001b[0m",
      "\u001b[1;31mMemoryError\u001b[0m                               Traceback (most recent call last)",
      "\u001b[1;32m<ipython-input-4-1df8ae55844e>\u001b[0m in \u001b[0;36m<module>\u001b[1;34m\u001b[0m\n\u001b[0;32m      1\u001b[0m \u001b[1;31m# 转成array\u001b[0m\u001b[1;33m\u001b[0m\u001b[1;33m\u001b[0m\u001b[1;33m\u001b[0m\u001b[0m\n\u001b[1;32m----> 2\u001b[1;33m \u001b[0marray_tag\u001b[0m \u001b[1;33m=\u001b[0m \u001b[0mnp\u001b[0m\u001b[1;33m.\u001b[0m\u001b[0mzeros\u001b[0m\u001b[1;33m(\u001b[0m\u001b[1;33m[\u001b[0m\u001b[0mlen\u001b[0m\u001b[1;33m(\u001b[0m\u001b[0mlist_tag\u001b[0m\u001b[1;33m)\u001b[0m\u001b[1;33m,\u001b[0m\u001b[0mlen\u001b[0m\u001b[1;33m(\u001b[0m\u001b[0mmax\u001b[0m\u001b[1;33m(\u001b[0m\u001b[0mlist_tag\u001b[0m\u001b[1;33m,\u001b[0m\u001b[0mkey\u001b[0m \u001b[1;33m=\u001b[0m \u001b[1;32mlambda\u001b[0m \u001b[0mx\u001b[0m\u001b[1;33m:\u001b[0m \u001b[0mlen\u001b[0m\u001b[1;33m(\u001b[0m\u001b[0mx\u001b[0m\u001b[1;33m)\u001b[0m\u001b[1;33m)\u001b[0m\u001b[1;33m)\u001b[0m\u001b[1;33m]\u001b[0m\u001b[1;33m)\u001b[0m\u001b[1;33m\u001b[0m\u001b[1;33m\u001b[0m\u001b[0m\n\u001b[0m\u001b[0;32m      3\u001b[0m \u001b[1;32mfor\u001b[0m \u001b[0mi\u001b[0m\u001b[1;33m,\u001b[0m\u001b[0mj\u001b[0m \u001b[1;32min\u001b[0m \u001b[0menumerate\u001b[0m\u001b[1;33m(\u001b[0m\u001b[0mlist_tag\u001b[0m\u001b[1;33m)\u001b[0m\u001b[1;33m:\u001b[0m\u001b[1;33m\u001b[0m\u001b[1;33m\u001b[0m\u001b[0m\n\u001b[0;32m      4\u001b[0m     \u001b[0marray_tag\u001b[0m\u001b[1;33m[\u001b[0m\u001b[0mi\u001b[0m\u001b[1;33m]\u001b[0m\u001b[1;33m[\u001b[0m\u001b[1;36m0\u001b[0m\u001b[1;33m:\u001b[0m\u001b[0mlen\u001b[0m\u001b[1;33m(\u001b[0m\u001b[0mj\u001b[0m\u001b[1;33m)\u001b[0m\u001b[1;33m]\u001b[0m \u001b[1;33m=\u001b[0m \u001b[0mj\u001b[0m\u001b[1;33m\u001b[0m\u001b[1;33m\u001b[0m\u001b[0m\n",
      "\u001b[1;31mMemoryError\u001b[0m: "
     ]
    }
   ],
   "source": [
    "# 转成array\n",
    "arr_len = \n",
    "array_tag = np.zeros([len(list_tag),len(max(list_tag,key = lambda x: len(x)))])\n",
    "for i,j in enumerate(list_tag):\n",
    "    array_tag[i][0:len(j)] = j"
   ]
  },
  {
   "cell_type": "markdown",
   "metadata": {},
   "source": [
    "内存爆炸了。"
   ]
  },
  {
   "cell_type": "code",
   "execution_count": 26,
   "metadata": {},
   "outputs": [
    {
     "data": {
      "text/html": [
       "<div>\n",
       "<style scoped>\n",
       "    .dataframe tbody tr th:only-of-type {\n",
       "        vertical-align: middle;\n",
       "    }\n",
       "\n",
       "    .dataframe tbody tr th {\n",
       "        vertical-align: top;\n",
       "    }\n",
       "\n",
       "    .dataframe thead th {\n",
       "        text-align: right;\n",
       "    }\n",
       "</style>\n",
       "<table border=\"1\" class=\"dataframe\">\n",
       "  <thead>\n",
       "    <tr style=\"text-align: right;\">\n",
       "      <th></th>\n",
       "      <th>device_id</th>\n",
       "      <th>gender</th>\n",
       "      <th>age</th>\n",
       "      <th>phone_brand</th>\n",
       "      <th>device_model</th>\n",
       "      <th>active_index</th>\n",
       "      <th>0</th>\n",
       "    </tr>\n",
       "  </thead>\n",
       "  <tbody>\n",
       "    <tr>\n",
       "      <th>0</th>\n",
       "      <td>0</td>\n",
       "      <td>0</td>\n",
       "      <td>35</td>\n",
       "      <td>0</td>\n",
       "      <td>0</td>\n",
       "      <td>58.0</td>\n",
       "      <td>[0.6980392156862745, 0.6892156862745098, 0.536...</td>\n",
       "    </tr>\n",
       "    <tr>\n",
       "      <th>1</th>\n",
       "      <td>1</td>\n",
       "      <td>1</td>\n",
       "      <td>37</td>\n",
       "      <td>1</td>\n",
       "      <td>1</td>\n",
       "      <td>142.0</td>\n",
       "      <td>[0.9911764705882353, 0.6980392156862745, 0.689...</td>\n",
       "    </tr>\n",
       "    <tr>\n",
       "      <th>2</th>\n",
       "      <td>2</td>\n",
       "      <td>0</td>\n",
       "      <td>32</td>\n",
       "      <td>1</td>\n",
       "      <td>2</td>\n",
       "      <td>272.0</td>\n",
       "      <td>[0.5372549019607843, 0.7058823529411765, 0.689...</td>\n",
       "    </tr>\n",
       "    <tr>\n",
       "      <th>3</th>\n",
       "      <td>3</td>\n",
       "      <td>1</td>\n",
       "      <td>28</td>\n",
       "      <td>1</td>\n",
       "      <td>2</td>\n",
       "      <td>155.0</td>\n",
       "      <td>[0.5372549019607843, 0.6980392156862745, 0.689...</td>\n",
       "    </tr>\n",
       "    <tr>\n",
       "      <th>4</th>\n",
       "      <td>4</td>\n",
       "      <td>0</td>\n",
       "      <td>75</td>\n",
       "      <td>2</td>\n",
       "      <td>3</td>\n",
       "      <td>384.0</td>\n",
       "      <td>[0.5372549019607843, 0.6950980392156862, 0.689...</td>\n",
       "    </tr>\n",
       "  </tbody>\n",
       "</table>\n",
       "</div>"
      ],
      "text/plain": [
       "   device_id  gender  age  phone_brand  device_model  active_index  \\\n",
       "0          0       0   35            0             0          58.0   \n",
       "1          1       1   37            1             1         142.0   \n",
       "2          2       0   32            1             2         272.0   \n",
       "3          3       1   28            1             2         155.0   \n",
       "4          4       0   75            2             3         384.0   \n",
       "\n",
       "                                                   0  \n",
       "0  [0.6980392156862745, 0.6892156862745098, 0.536...  \n",
       "1  [0.9911764705882353, 0.6980392156862745, 0.689...  \n",
       "2  [0.5372549019607843, 0.7058823529411765, 0.689...  \n",
       "3  [0.5372549019607843, 0.6980392156862745, 0.689...  \n",
       "4  [0.5372549019607843, 0.6950980392156862, 0.689...  "
      ]
     },
     "execution_count": 26,
     "metadata": {},
     "output_type": "execute_result"
    }
   ],
   "source": [
    "t = data_train.copy(deep=True)\n",
    "pd.concat([t,pd.DataFrame(np.array(list_tag))], axis=1).head()"
   ]
  },
  {
   "cell_type": "markdown",
   "metadata": {},
   "source": [
    "# 2 划分数据集"
   ]
  },
  {
   "cell_type": "markdown",
   "metadata": {},
   "source": [
    "# 3 任务一：性别预测"
   ]
  },
  {
   "cell_type": "markdown",
   "metadata": {},
   "source": [
    "性别是标量，做个二分类就行。"
   ]
  },
  {
   "cell_type": "code",
   "execution_count": 34,
   "metadata": {},
   "outputs": [],
   "source": [
    "set_pickle('data_train.pkl',data_train)"
   ]
  },
  {
   "cell_type": "code",
   "execution_count": 7,
   "metadata": {},
   "outputs": [
    {
     "data": {
      "text/html": [
       "<div>\n",
       "<style scoped>\n",
       "    .dataframe tbody tr th:only-of-type {\n",
       "        vertical-align: middle;\n",
       "    }\n",
       "\n",
       "    .dataframe tbody tr th {\n",
       "        vertical-align: top;\n",
       "    }\n",
       "\n",
       "    .dataframe thead th {\n",
       "        text-align: right;\n",
       "    }\n",
       "</style>\n",
       "<table border=\"1\" class=\"dataframe\">\n",
       "  <thead>\n",
       "    <tr style=\"text-align: right;\">\n",
       "      <th></th>\n",
       "      <th>device_id</th>\n",
       "      <th>gender</th>\n",
       "      <th>age</th>\n",
       "      <th>phone_brand</th>\n",
       "      <th>device_model</th>\n",
       "      <th>active_index</th>\n",
       "      <th>pre_index</th>\n",
       "    </tr>\n",
       "  </thead>\n",
       "  <tbody>\n",
       "    <tr>\n",
       "      <th>0</th>\n",
       "      <td>0</td>\n",
       "      <td>0</td>\n",
       "      <td>35</td>\n",
       "      <td>0.000000</td>\n",
       "      <td>0.000000</td>\n",
       "      <td>0.000856</td>\n",
       "      <td>0.000951</td>\n",
       "    </tr>\n",
       "    <tr>\n",
       "      <th>1</th>\n",
       "      <td>1</td>\n",
       "      <td>1</td>\n",
       "      <td>37</td>\n",
       "      <td>0.011765</td>\n",
       "      <td>0.001125</td>\n",
       "      <td>0.002096</td>\n",
       "      <td>0.002131</td>\n",
       "    </tr>\n",
       "    <tr>\n",
       "      <th>2</th>\n",
       "      <td>2</td>\n",
       "      <td>0</td>\n",
       "      <td>32</td>\n",
       "      <td>0.011765</td>\n",
       "      <td>0.002250</td>\n",
       "      <td>0.004015</td>\n",
       "      <td>0.005071</td>\n",
       "    </tr>\n",
       "    <tr>\n",
       "      <th>3</th>\n",
       "      <td>3</td>\n",
       "      <td>1</td>\n",
       "      <td>28</td>\n",
       "      <td>0.011765</td>\n",
       "      <td>0.002250</td>\n",
       "      <td>0.002288</td>\n",
       "      <td>0.003217</td>\n",
       "    </tr>\n",
       "    <tr>\n",
       "      <th>4</th>\n",
       "      <td>4</td>\n",
       "      <td>0</td>\n",
       "      <td>75</td>\n",
       "      <td>0.023529</td>\n",
       "      <td>0.003375</td>\n",
       "      <td>0.005669</td>\n",
       "      <td>0.006742</td>\n",
       "    </tr>\n",
       "  </tbody>\n",
       "</table>\n",
       "</div>"
      ],
      "text/plain": [
       "   device_id  gender  age  phone_brand  device_model  active_index  pre_index\n",
       "0          0       0   35     0.000000      0.000000      0.000856   0.000951\n",
       "1          1       1   37     0.011765      0.001125      0.002096   0.002131\n",
       "2          2       0   32     0.011765      0.002250      0.004015   0.005071\n",
       "3          3       1   28     0.011765      0.002250      0.002288   0.003217\n",
       "4          4       0   75     0.023529      0.003375      0.005669   0.006742"
      ]
     },
     "execution_count": 7,
     "metadata": {},
     "output_type": "execute_result"
    }
   ],
   "source": [
    "# 读取数据\n",
    "data_train = get_pickle('data_train.pkl')\n",
    "data_train.head()"
   ]
  },
  {
   "cell_type": "markdown",
   "metadata": {},
   "source": [
    "## 2.1 划分数据集"
   ]
  },
  {
   "cell_type": "code",
   "execution_count": 30,
   "metadata": {},
   "outputs": [],
   "source": [
    "train_gender = data_train.copy(deep=True)\n",
    "# train_gender.head()"
   ]
  },
  {
   "cell_type": "code",
   "execution_count": 31,
   "metadata": {},
   "outputs": [],
   "source": [
    "train_gender['gender'] = train_gender['gender'].astype('int64')\n",
    "# y_train = y_train.astype('int64')"
   ]
  },
  {
   "cell_type": "code",
   "execution_count": 32,
   "metadata": {},
   "outputs": [
    {
     "data": {
      "text/html": [
       "<div>\n",
       "<style scoped>\n",
       "    .dataframe tbody tr th:only-of-type {\n",
       "        vertical-align: middle;\n",
       "    }\n",
       "\n",
       "    .dataframe tbody tr th {\n",
       "        vertical-align: top;\n",
       "    }\n",
       "\n",
       "    .dataframe thead th {\n",
       "        text-align: right;\n",
       "    }\n",
       "</style>\n",
       "<table border=\"1\" class=\"dataframe\">\n",
       "  <thead>\n",
       "    <tr style=\"text-align: right;\">\n",
       "      <th></th>\n",
       "      <th>device_id</th>\n",
       "      <th>phone_brand</th>\n",
       "      <th>device_model</th>\n",
       "      <th>active_index</th>\n",
       "      <th>pre_index</th>\n",
       "    </tr>\n",
       "  </thead>\n",
       "  <tbody>\n",
       "    <tr>\n",
       "      <th>0</th>\n",
       "      <td>0</td>\n",
       "      <td>0.000000</td>\n",
       "      <td>0.000000</td>\n",
       "      <td>0.000856</td>\n",
       "      <td>0.000951</td>\n",
       "    </tr>\n",
       "    <tr>\n",
       "      <th>1</th>\n",
       "      <td>1</td>\n",
       "      <td>0.011765</td>\n",
       "      <td>0.001125</td>\n",
       "      <td>0.002096</td>\n",
       "      <td>0.002131</td>\n",
       "    </tr>\n",
       "    <tr>\n",
       "      <th>2</th>\n",
       "      <td>2</td>\n",
       "      <td>0.011765</td>\n",
       "      <td>0.002250</td>\n",
       "      <td>0.004015</td>\n",
       "      <td>0.005071</td>\n",
       "    </tr>\n",
       "    <tr>\n",
       "      <th>3</th>\n",
       "      <td>3</td>\n",
       "      <td>0.011765</td>\n",
       "      <td>0.002250</td>\n",
       "      <td>0.002288</td>\n",
       "      <td>0.003217</td>\n",
       "    </tr>\n",
       "    <tr>\n",
       "      <th>4</th>\n",
       "      <td>4</td>\n",
       "      <td>0.023529</td>\n",
       "      <td>0.003375</td>\n",
       "      <td>0.005669</td>\n",
       "      <td>0.006742</td>\n",
       "    </tr>\n",
       "  </tbody>\n",
       "</table>\n",
       "</div>"
      ],
      "text/plain": [
       "   device_id  phone_brand  device_model  active_index  pre_index\n",
       "0          0     0.000000      0.000000      0.000856   0.000951\n",
       "1          1     0.011765      0.001125      0.002096   0.002131\n",
       "2          2     0.011765      0.002250      0.004015   0.005071\n",
       "3          3     0.011765      0.002250      0.002288   0.003217\n",
       "4          4     0.023529      0.003375      0.005669   0.006742"
      ]
     },
     "execution_count": 32,
     "metadata": {},
     "output_type": "execute_result"
    }
   ],
   "source": [
    "y = train_gender['gender']\n",
    "# train_gender.drop(['gender','age','device_id'],axis=1, inplace=True)\n",
    "train_gender.drop(['gender','age'],axis=1, inplace=True)\n",
    "train_gender=train_gender.iloc[:,0:17]\n",
    "train_gender.head()"
   ]
  },
  {
   "cell_type": "code",
   "execution_count": 38,
   "metadata": {},
   "outputs": [
    {
     "data": {
      "text/html": [
       "<div>\n",
       "<style scoped>\n",
       "    .dataframe tbody tr th:only-of-type {\n",
       "        vertical-align: middle;\n",
       "    }\n",
       "\n",
       "    .dataframe tbody tr th {\n",
       "        vertical-align: top;\n",
       "    }\n",
       "\n",
       "    .dataframe thead th {\n",
       "        text-align: right;\n",
       "    }\n",
       "</style>\n",
       "<table border=\"1\" class=\"dataframe\">\n",
       "  <thead>\n",
       "    <tr style=\"text-align: right;\">\n",
       "      <th></th>\n",
       "      <th>device_id</th>\n",
       "      <th>phone_brand</th>\n",
       "      <th>device_model</th>\n",
       "      <th>active_index</th>\n",
       "      <th>pre_index</th>\n",
       "    </tr>\n",
       "  </thead>\n",
       "  <tbody>\n",
       "    <tr>\n",
       "      <th>count</th>\n",
       "      <td>20001.000000</td>\n",
       "      <td>20001.000000</td>\n",
       "      <td>20001.000000</td>\n",
       "      <td>20001.000000</td>\n",
       "      <td>20001.000000</td>\n",
       "    </tr>\n",
       "    <tr>\n",
       "      <th>mean</th>\n",
       "      <td>9999.892755</td>\n",
       "      <td>0.053855</td>\n",
       "      <td>0.147098</td>\n",
       "      <td>0.015850</td>\n",
       "      <td>0.013194</td>\n",
       "    </tr>\n",
       "    <tr>\n",
       "      <th>std</th>\n",
       "      <td>5773.769872</td>\n",
       "      <td>0.086417</td>\n",
       "      <td>0.180270</td>\n",
       "      <td>0.028861</td>\n",
       "      <td>0.032864</td>\n",
       "    </tr>\n",
       "    <tr>\n",
       "      <th>min</th>\n",
       "      <td>0.000000</td>\n",
       "      <td>0.000000</td>\n",
       "      <td>0.000000</td>\n",
       "      <td>0.000000</td>\n",
       "      <td>0.000000</td>\n",
       "    </tr>\n",
       "    <tr>\n",
       "      <th>25%</th>\n",
       "      <td>5000.000000</td>\n",
       "      <td>0.011765</td>\n",
       "      <td>0.029246</td>\n",
       "      <td>0.005551</td>\n",
       "      <td>0.001355</td>\n",
       "    </tr>\n",
       "    <tr>\n",
       "      <th>50%</th>\n",
       "      <td>10000.000000</td>\n",
       "      <td>0.023529</td>\n",
       "      <td>0.067492</td>\n",
       "      <td>0.009108</td>\n",
       "      <td>0.004286</td>\n",
       "    </tr>\n",
       "    <tr>\n",
       "      <th>75%</th>\n",
       "      <td>15000.000000</td>\n",
       "      <td>0.082353</td>\n",
       "      <td>0.197975</td>\n",
       "      <td>0.016534</td>\n",
       "      <td>0.012772</td>\n",
       "    </tr>\n",
       "    <tr>\n",
       "      <th>max</th>\n",
       "      <td>19999.000000</td>\n",
       "      <td>1.000000</td>\n",
       "      <td>1.000000</td>\n",
       "      <td>1.000000</td>\n",
       "      <td>1.000000</td>\n",
       "    </tr>\n",
       "  </tbody>\n",
       "</table>\n",
       "</div>"
      ],
      "text/plain": [
       "          device_id   phone_brand  device_model  active_index     pre_index\n",
       "count  20001.000000  20001.000000  20001.000000  20001.000000  20001.000000\n",
       "mean    9999.892755      0.053855      0.147098      0.015850      0.013194\n",
       "std     5773.769872      0.086417      0.180270      0.028861      0.032864\n",
       "min        0.000000      0.000000      0.000000      0.000000      0.000000\n",
       "25%     5000.000000      0.011765      0.029246      0.005551      0.001355\n",
       "50%    10000.000000      0.023529      0.067492      0.009108      0.004286\n",
       "75%    15000.000000      0.082353      0.197975      0.016534      0.012772\n",
       "max    19999.000000      1.000000      1.000000      1.000000      1.000000"
      ]
     },
     "execution_count": 38,
     "metadata": {},
     "output_type": "execute_result"
    }
   ],
   "source": [
    "train_gender.describe()"
   ]
  },
  {
   "cell_type": "code",
   "execution_count": 20,
   "metadata": {},
   "outputs": [
    {
     "name": "stdout",
     "output_type": "stream",
     "text": [
      "<class 'pandas.core.frame.DataFrame'>\n",
      "RangeIndex: 20001 entries, 0 to 20000\n",
      "Data columns (total 5 columns):\n",
      "device_id       20001 non-null int64\n",
      "phone_brand     20001 non-null float64\n",
      "device_model    20001 non-null float64\n",
      "active_index    20001 non-null float64\n",
      "pre_index       20001 non-null float64\n",
      "dtypes: float64(4), int64(1)\n",
      "memory usage: 781.4 KB\n"
     ]
    }
   ],
   "source": [
    "train_gender.info()"
   ]
  },
  {
   "cell_type": "code",
   "execution_count": 33,
   "metadata": {},
   "outputs": [],
   "source": [
    "from sklearn.model_selection import train_test_split\n",
    "X_train, X_holdout, y_train, y_holdout = train_test_split(train_gender.values, y.values, test_size=0.3,random_state=17)"
   ]
  },
  {
   "cell_type": "code",
   "execution_count": 45,
   "metadata": {},
   "outputs": [
    {
     "data": {
      "text/plain": [
       "(14000, 5)"
      ]
     },
     "execution_count": 45,
     "metadata": {},
     "output_type": "execute_result"
    }
   ],
   "source": [
    "X_train.shape"
   ]
  },
  {
   "cell_type": "markdown",
   "metadata": {},
   "source": [
    "## 发现app类型"
   ]
  },
  {
   "cell_type": "markdown",
   "metadata": {},
   "source": [
    "首先，使用KMeans模型发现app类型:"
   ]
  },
  {
   "cell_type": "markdown",
   "metadata": {},
   "source": [
    "下面基于划分后的训练集和测试集有针对性地挖掘，正式训练时将使用整个数据集挖掘得到的模型。"
   ]
  },
  {
   "cell_type": "markdown",
   "metadata": {},
   "source": [
    "### 训练集"
   ]
  },
  {
   "cell_type": "code",
   "execution_count": 22,
   "metadata": {},
   "outputs": [],
   "source": [
    "# 创建array\n",
    "device_id_list = list(tuple(int(i)for i in X_train[:,0]))\n",
    "# print(device_id_list)"
   ]
  },
  {
   "cell_type": "code",
   "execution_count": 23,
   "metadata": {},
   "outputs": [
    {
     "data": {
      "text/html": [
       "<div>\n",
       "<style scoped>\n",
       "    .dataframe tbody tr th:only-of-type {\n",
       "        vertical-align: middle;\n",
       "    }\n",
       "\n",
       "    .dataframe tbody tr th {\n",
       "        vertical-align: top;\n",
       "    }\n",
       "\n",
       "    .dataframe thead th {\n",
       "        text-align: right;\n",
       "    }\n",
       "</style>\n",
       "<table border=\"1\" class=\"dataframe\">\n",
       "  <thead>\n",
       "    <tr style=\"text-align: right;\">\n",
       "      <th></th>\n",
       "      <th>event_id</th>\n",
       "      <th>app_id</th>\n",
       "      <th>is_installed</th>\n",
       "      <th>is_active</th>\n",
       "      <th>device_id</th>\n",
       "      <th>tag_list</th>\n",
       "      <th>date</th>\n",
       "    </tr>\n",
       "  </thead>\n",
       "  <tbody>\n",
       "    <tr>\n",
       "      <th>0</th>\n",
       "      <td>6</td>\n",
       "      <td>0</td>\n",
       "      <td>1</td>\n",
       "      <td>1</td>\n",
       "      <td>14271</td>\n",
       "      <td>[549, 721, 704, 302, 303, 548, 183]</td>\n",
       "      <td>1</td>\n",
       "    </tr>\n",
       "    <tr>\n",
       "      <th>1</th>\n",
       "      <td>6</td>\n",
       "      <td>1</td>\n",
       "      <td>1</td>\n",
       "      <td>1</td>\n",
       "      <td>14271</td>\n",
       "      <td>[713, 704, 548]</td>\n",
       "      <td>1</td>\n",
       "    </tr>\n",
       "    <tr>\n",
       "      <th>2</th>\n",
       "      <td>6</td>\n",
       "      <td>2</td>\n",
       "      <td>1</td>\n",
       "      <td>1</td>\n",
       "      <td>14271</td>\n",
       "      <td>[549, 710, 704, 548, 172]</td>\n",
       "      <td>1</td>\n",
       "    </tr>\n",
       "    <tr>\n",
       "      <th>3</th>\n",
       "      <td>6</td>\n",
       "      <td>3</td>\n",
       "      <td>1</td>\n",
       "      <td>1</td>\n",
       "      <td>14271</td>\n",
       "      <td>[548, 549]</td>\n",
       "      <td>1</td>\n",
       "    </tr>\n",
       "    <tr>\n",
       "      <th>4</th>\n",
       "      <td>6</td>\n",
       "      <td>4</td>\n",
       "      <td>1</td>\n",
       "      <td>1</td>\n",
       "      <td>14271</td>\n",
       "      <td>[128, 1014]</td>\n",
       "      <td>1</td>\n",
       "    </tr>\n",
       "  </tbody>\n",
       "</table>\n",
       "</div>"
      ],
      "text/plain": [
       "   event_id  app_id  is_installed  is_active  device_id  \\\n",
       "0         6       0             1          1      14271   \n",
       "1         6       1             1          1      14271   \n",
       "2         6       2             1          1      14271   \n",
       "3         6       3             1          1      14271   \n",
       "4         6       4             1          1      14271   \n",
       "\n",
       "                              tag_list  date  \n",
       "0  [549, 721, 704, 302, 303, 548, 183]     1  \n",
       "1                      [713, 704, 548]     1  \n",
       "2            [549, 710, 704, 548, 172]     1  \n",
       "3                           [548, 549]     1  \n",
       "4                          [128, 1014]     1  "
      ]
     },
     "execution_count": 23,
     "metadata": {},
     "output_type": "execute_result"
    }
   ],
   "source": [
    "# 取出训练集范围的标签列表\n",
    "af = data_train_events[data_train_events['device_id'].isin(device_id_list)].reset_index(drop=True)\n",
    "af.head()"
   ]
  },
  {
   "cell_type": "code",
   "execution_count": 65,
   "metadata": {},
   "outputs": [
    {
     "name": "stdout",
     "output_type": "stream",
     "text": [
      "<class 'pandas.core.frame.DataFrame'>\n",
      "RangeIndex: 7413358 entries, 0 to 7413357\n",
      "Data columns (total 7 columns):\n",
      "event_id        int64\n",
      "app_id          int64\n",
      "is_installed    int64\n",
      "is_active       int64\n",
      "device_id       int64\n",
      "tag_list        object\n",
      "date            int64\n",
      "dtypes: int64(6), object(1)\n",
      "memory usage: 395.9+ MB\n"
     ]
    }
   ],
   "source": [
    "af.info()"
   ]
  },
  {
   "cell_type": "code",
   "execution_count": 22,
   "metadata": {},
   "outputs": [],
   "source": [
    "w = 26\n",
    "h = af.shape[0]\n",
    "array_tag = np.zeros([h,w])\n",
    "\n",
    "# tag_list标签最值\n",
    "mmin = 1\n",
    "mmax = 1021"
   ]
  },
  {
   "cell_type": "code",
   "execution_count": 44,
   "metadata": {},
   "outputs": [
    {
     "name": "stdout",
     "output_type": "stream",
     "text": [
      "tag矩阵的尺寸为：7413358×26\n"
     ]
    }
   ],
   "source": [
    "print(\"tag矩阵的尺寸为：%d×%d\"%(h,w))"
   ]
  },
  {
   "cell_type": "code",
   "execution_count": null,
   "metadata": {},
   "outputs": [],
   "source": [
    "# 获取app特征矩阵\n",
    "for i in range(0,af.shape[0]):\n",
    "    tag_list = af.loc[i,'tag_list']\n",
    "#     print(type(tag_list))\n",
    "    r = tag_list[1:-1].split(',')\n",
    "    li = [min_max(int(s),mmin,mmax) for s in r] #归一化\n",
    "    for j in range(0,len(li)):\n",
    "        array_tag[i][j] = li[j]\n",
    "print(array_tag[:5])"
   ]
  },
  {
   "cell_type": "markdown",
   "metadata": {},
   "source": [
    "保存一下得到的app的tag矩阵："
   ]
  },
  {
   "cell_type": "code",
   "execution_count": 69,
   "metadata": {},
   "outputs": [],
   "source": [
    "set_pickle(\"tag_Matrix.pkl\",array_tag)"
   ]
  },
  {
   "cell_type": "code",
   "execution_count": 24,
   "metadata": {},
   "outputs": [],
   "source": [
    "array_tag = get_pickle(\"tag_Matrix.pkl\")"
   ]
  },
  {
   "cell_type": "code",
   "execution_count": 24,
   "metadata": {},
   "outputs": [],
   "source": [
    "n_clusters = 20\n",
    "random_state = 17\n",
    "batch_size = 100"
   ]
  },
  {
   "cell_type": "markdown",
   "metadata": {},
   "source": [
    "下面训练一下看下效果："
   ]
  },
  {
   "cell_type": "code",
   "execution_count": 25,
   "metadata": {},
   "outputs": [],
   "source": [
    "from sklearn.cluster import KMeans,MiniBatchKMeans"
   ]
  },
  {
   "cell_type": "code",
   "execution_count": 55,
   "metadata": {},
   "outputs": [
    {
     "data": {
      "text/plain": [
       "array([ 0, 11, 10, ...,  3, 11, 19])"
      ]
     },
     "execution_count": 55,
     "metadata": {},
     "output_type": "execute_result"
    }
   ],
   "source": [
    "mbm_pred = MiniBatchKMeans(n_clusters=n_clusters, random_state=random_state).fit_predict(array_tag)\n",
    "mbm_pred"
   ]
  },
  {
   "cell_type": "code",
   "execution_count": 23,
   "metadata": {},
   "outputs": [
    {
     "data": {
      "text/plain": [
       "array([[0.5372549 , 0.70588235, 0.68921569, ..., 0.        , 0.        ,\n",
       "        0.        ],\n",
       "       [0.69803922, 0.68921569, 0.53627451, ..., 0.        , 0.        ,\n",
       "        0.        ],\n",
       "       [0.5372549 , 0.69509804, 0.68921569, ..., 0.        , 0.        ,\n",
       "        0.        ],\n",
       "       ...,\n",
       "       [0.53627451, 0.5372549 , 0.39607843, ..., 0.        , 0.        ,\n",
       "        0.        ],\n",
       "       [0.53627451, 0.5372549 , 0.        , ..., 0.        , 0.        ,\n",
       "        0.        ],\n",
       "       [0.5372549 , 0.69803922, 0.70588235, ..., 0.        , 0.        ,\n",
       "        0.        ]])"
      ]
     },
     "execution_count": 23,
     "metadata": {},
     "output_type": "execute_result"
    }
   ],
   "source": [
    "array_tag"
   ]
  },
  {
   "cell_type": "code",
   "execution_count": 26,
   "metadata": {},
   "outputs": [
    {
     "data": {
      "text/plain": [
       "MiniBatchKMeans(batch_size=100, compute_labels=True, init='k-means++',\n",
       "                init_size=None, max_iter=100, max_no_improvement=10,\n",
       "                n_clusters=20, n_init=3, random_state=17,\n",
       "                reassignment_ratio=0.01, tol=0.0, verbose=0)"
      ]
     },
     "execution_count": 26,
     "metadata": {},
     "output_type": "execute_result"
    }
   ],
   "source": [
    "mbk = MiniBatchKMeans(n_clusters=n_clusters, random_state=random_state)\n",
    "mbk.fit(array_tag)"
   ]
  },
  {
   "cell_type": "code",
   "execution_count": 26,
   "metadata": {},
   "outputs": [
    {
     "data": {
      "text/plain": [
       "array([ 0, 11, 10, ...,  3, 11, 19])"
      ]
     },
     "execution_count": 26,
     "metadata": {},
     "output_type": "execute_result"
    }
   ],
   "source": [
    "mbm_pred = mbk.predict(array_tag)\n",
    "mbm_pred"
   ]
  },
  {
   "cell_type": "markdown",
   "metadata": {},
   "source": [
    "保存模型："
   ]
  },
  {
   "cell_type": "code",
   "execution_count": 30,
   "metadata": {},
   "outputs": [],
   "source": [
    "set_pickle(\"KNN_appType.pkl\",mbk)"
   ]
  },
  {
   "cell_type": "code",
   "execution_count": 14,
   "metadata": {},
   "outputs": [],
   "source": [
    "mbk = get_pickle('KNN_appType.pkl')"
   ]
  },
  {
   "cell_type": "code",
   "execution_count": 82,
   "metadata": {},
   "outputs": [
    {
     "data": {
      "text/plain": [
       "7413358"
      ]
     },
     "execution_count": 82,
     "metadata": {},
     "output_type": "execute_result"
    }
   ],
   "source": [
    "mbm_pred.shape[0]"
   ]
  },
  {
   "cell_type": "markdown",
   "metadata": {},
   "source": [
    "将分类结果插入到data_events表中："
   ]
  },
  {
   "cell_type": "code",
   "execution_count": 27,
   "metadata": {},
   "outputs": [
    {
     "data": {
      "text/html": [
       "<div>\n",
       "<style scoped>\n",
       "    .dataframe tbody tr th:only-of-type {\n",
       "        vertical-align: middle;\n",
       "    }\n",
       "\n",
       "    .dataframe tbody tr th {\n",
       "        vertical-align: top;\n",
       "    }\n",
       "\n",
       "    .dataframe thead th {\n",
       "        text-align: right;\n",
       "    }\n",
       "</style>\n",
       "<table border=\"1\" class=\"dataframe\">\n",
       "  <thead>\n",
       "    <tr style=\"text-align: right;\">\n",
       "      <th></th>\n",
       "      <th>event_id</th>\n",
       "      <th>app_id</th>\n",
       "      <th>is_installed</th>\n",
       "      <th>is_active</th>\n",
       "      <th>device_id</th>\n",
       "      <th>tag_list</th>\n",
       "      <th>date</th>\n",
       "      <th>app_type</th>\n",
       "    </tr>\n",
       "  </thead>\n",
       "  <tbody>\n",
       "    <tr>\n",
       "      <th>0</th>\n",
       "      <td>6</td>\n",
       "      <td>0</td>\n",
       "      <td>1</td>\n",
       "      <td>1</td>\n",
       "      <td>14271</td>\n",
       "      <td>[549, 721, 704, 302, 303, 548, 183]</td>\n",
       "      <td>1</td>\n",
       "      <td>0</td>\n",
       "    </tr>\n",
       "    <tr>\n",
       "      <th>1</th>\n",
       "      <td>6</td>\n",
       "      <td>1</td>\n",
       "      <td>1</td>\n",
       "      <td>1</td>\n",
       "      <td>14271</td>\n",
       "      <td>[713, 704, 548]</td>\n",
       "      <td>1</td>\n",
       "      <td>11</td>\n",
       "    </tr>\n",
       "    <tr>\n",
       "      <th>2</th>\n",
       "      <td>6</td>\n",
       "      <td>2</td>\n",
       "      <td>1</td>\n",
       "      <td>1</td>\n",
       "      <td>14271</td>\n",
       "      <td>[549, 710, 704, 548, 172]</td>\n",
       "      <td>1</td>\n",
       "      <td>10</td>\n",
       "    </tr>\n",
       "    <tr>\n",
       "      <th>3</th>\n",
       "      <td>6</td>\n",
       "      <td>3</td>\n",
       "      <td>1</td>\n",
       "      <td>1</td>\n",
       "      <td>14271</td>\n",
       "      <td>[548, 549]</td>\n",
       "      <td>1</td>\n",
       "      <td>11</td>\n",
       "    </tr>\n",
       "    <tr>\n",
       "      <th>4</th>\n",
       "      <td>6</td>\n",
       "      <td>4</td>\n",
       "      <td>1</td>\n",
       "      <td>1</td>\n",
       "      <td>14271</td>\n",
       "      <td>[128, 1014]</td>\n",
       "      <td>1</td>\n",
       "      <td>11</td>\n",
       "    </tr>\n",
       "  </tbody>\n",
       "</table>\n",
       "</div>"
      ],
      "text/plain": [
       "   event_id  app_id  is_installed  is_active  device_id  \\\n",
       "0         6       0             1          1      14271   \n",
       "1         6       1             1          1      14271   \n",
       "2         6       2             1          1      14271   \n",
       "3         6       3             1          1      14271   \n",
       "4         6       4             1          1      14271   \n",
       "\n",
       "                              tag_list  date  app_type  \n",
       "0  [549, 721, 704, 302, 303, 548, 183]     1         0  \n",
       "1                      [713, 704, 548]     1        11  \n",
       "2            [549, 710, 704, 548, 172]     1        10  \n",
       "3                           [548, 549]     1        11  \n",
       "4                          [128, 1014]     1        11  "
      ]
     },
     "execution_count": 27,
     "metadata": {},
     "output_type": "execute_result"
    }
   ],
   "source": [
    "af['app_type'] = pd.Series(mbm_pred)\n",
    "# data_train_events['app_type'] = data_train_events['app_type'].astype('int64')\n",
    "af.head()"
   ]
  },
  {
   "cell_type": "markdown",
   "metadata": {},
   "source": [
    "将偏好系数插入表中："
   ]
  },
  {
   "cell_type": "code",
   "execution_count": 28,
   "metadata": {},
   "outputs": [
    {
     "data": {
      "text/html": [
       "<div>\n",
       "<style scoped>\n",
       "    .dataframe tbody tr th:only-of-type {\n",
       "        vertical-align: middle;\n",
       "    }\n",
       "\n",
       "    .dataframe tbody tr th {\n",
       "        vertical-align: top;\n",
       "    }\n",
       "\n",
       "    .dataframe thead th {\n",
       "        text-align: right;\n",
       "    }\n",
       "</style>\n",
       "<table border=\"1\" class=\"dataframe\">\n",
       "  <thead>\n",
       "    <tr style=\"text-align: right;\">\n",
       "      <th></th>\n",
       "      <th>event_id</th>\n",
       "      <th>app_id</th>\n",
       "      <th>is_installed</th>\n",
       "      <th>is_active</th>\n",
       "      <th>device_id</th>\n",
       "      <th>tag_list</th>\n",
       "      <th>date</th>\n",
       "      <th>app_type</th>\n",
       "      <th>pre_index</th>\n",
       "    </tr>\n",
       "  </thead>\n",
       "  <tbody>\n",
       "    <tr>\n",
       "      <th>0</th>\n",
       "      <td>6</td>\n",
       "      <td>0</td>\n",
       "      <td>1</td>\n",
       "      <td>1</td>\n",
       "      <td>14271</td>\n",
       "      <td>[549, 721, 704, 302, 303, 548, 183]</td>\n",
       "      <td>1</td>\n",
       "      <td>0</td>\n",
       "      <td>2.5</td>\n",
       "    </tr>\n",
       "    <tr>\n",
       "      <th>1</th>\n",
       "      <td>6</td>\n",
       "      <td>1</td>\n",
       "      <td>1</td>\n",
       "      <td>1</td>\n",
       "      <td>14271</td>\n",
       "      <td>[713, 704, 548]</td>\n",
       "      <td>1</td>\n",
       "      <td>11</td>\n",
       "      <td>2.5</td>\n",
       "    </tr>\n",
       "    <tr>\n",
       "      <th>2</th>\n",
       "      <td>6</td>\n",
       "      <td>2</td>\n",
       "      <td>1</td>\n",
       "      <td>1</td>\n",
       "      <td>14271</td>\n",
       "      <td>[549, 710, 704, 548, 172]</td>\n",
       "      <td>1</td>\n",
       "      <td>10</td>\n",
       "      <td>2.5</td>\n",
       "    </tr>\n",
       "    <tr>\n",
       "      <th>3</th>\n",
       "      <td>6</td>\n",
       "      <td>3</td>\n",
       "      <td>1</td>\n",
       "      <td>1</td>\n",
       "      <td>14271</td>\n",
       "      <td>[548, 549]</td>\n",
       "      <td>1</td>\n",
       "      <td>11</td>\n",
       "      <td>2.5</td>\n",
       "    </tr>\n",
       "    <tr>\n",
       "      <th>4</th>\n",
       "      <td>6</td>\n",
       "      <td>4</td>\n",
       "      <td>1</td>\n",
       "      <td>1</td>\n",
       "      <td>14271</td>\n",
       "      <td>[128, 1014]</td>\n",
       "      <td>1</td>\n",
       "      <td>11</td>\n",
       "      <td>2.5</td>\n",
       "    </tr>\n",
       "  </tbody>\n",
       "</table>\n",
       "</div>"
      ],
      "text/plain": [
       "   event_id  app_id  is_installed  is_active  device_id  \\\n",
       "0         6       0             1          1      14271   \n",
       "1         6       1             1          1      14271   \n",
       "2         6       2             1          1      14271   \n",
       "3         6       3             1          1      14271   \n",
       "4         6       4             1          1      14271   \n",
       "\n",
       "                              tag_list  date  app_type  pre_index  \n",
       "0  [549, 721, 704, 302, 303, 548, 183]     1         0        2.5  \n",
       "1                      [713, 704, 548]     1        11        2.5  \n",
       "2            [549, 710, 704, 548, 172]     1        10        2.5  \n",
       "3                           [548, 549]     1        11        2.5  \n",
       "4                          [128, 1014]     1        11        2.5  "
      ]
     },
     "execution_count": 28,
     "metadata": {},
     "output_type": "execute_result"
    }
   ],
   "source": [
    "af['pre_index'] = af['is_installed'] + 1.5 * af['is_active']\n",
    "af.head()"
   ]
  },
  {
   "cell_type": "markdown",
   "metadata": {},
   "source": [
    "导出每个device_id的偏好系数和："
   ]
  },
  {
   "cell_type": "code",
   "execution_count": 29,
   "metadata": {},
   "outputs": [
    {
     "data": {
      "text/plain": [
       "device_id  app_type\n",
       "2          0           10.0\n",
       "           1           16.5\n",
       "           2            4.5\n",
       "           3           15.0\n",
       "           4            5.0\n",
       "Name: pre_index, dtype: float64"
      ]
     },
     "execution_count": 29,
     "metadata": {},
     "output_type": "execute_result"
    }
   ],
   "source": [
    "pre_index_sum = af.groupby(['device_id','app_type'])['pre_index'].agg(np.sum)\n",
    "pre_index_sum.head()"
   ]
  },
  {
   "cell_type": "markdown",
   "metadata": {},
   "source": [
    "将偏好系数表插入X_train："
   ]
  },
  {
   "cell_type": "code",
   "execution_count": 30,
   "metadata": {},
   "outputs": [
    {
     "data": {
      "text/plain": [
       "(14000, 20)"
      ]
     },
     "execution_count": 30,
     "metadata": {},
     "output_type": "execute_result"
    }
   ],
   "source": [
    "t_arr = np.zeros([X_train.shape[0],20])\n",
    "for i in range(0,X_train.shape[0]):\n",
    "    did = int(X_train[i][0])\n",
    "    for j_i,j in enumerate(list(pre_index_sum[did].index)):\n",
    "        t_arr[i][j] = pre_index_sum[did].values[j_i]\n",
    "t_arr.shape"
   ]
  },
  {
   "cell_type": "markdown",
   "metadata": {},
   "source": [
    "归一化一下："
   ]
  },
  {
   "cell_type": "code",
   "execution_count": 31,
   "metadata": {},
   "outputs": [
    {
     "data": {
      "text/plain": [
       "array([[0.07692308, 0.        , 0.34615385, 0.        , 0.        ,\n",
       "        0.23076923, 0.        , 0.69230769, 0.        , 0.        ,\n",
       "        0.5       , 1.        , 0.        , 0.        , 0.        ,\n",
       "        0.19230769, 0.        , 0.        , 0.        , 0.42307692]])"
      ]
     },
     "execution_count": 31,
     "metadata": {},
     "output_type": "execute_result"
    }
   ],
   "source": [
    "for i in range(0,t_arr.shape[0]):\n",
    "    t_arr[i,:] = (t_arr[i,:] - np.min(t_arr[i,:])) / (np.max(t_arr[i,:]) - np.min(t_arr[i,:]))\n",
    "\n",
    "t_arr[:1,:]"
   ]
  },
  {
   "cell_type": "code",
   "execution_count": 32,
   "metadata": {},
   "outputs": [
    {
     "data": {
      "text/plain": [
       "array([[8.95000000e+02, 0.00000000e+00, 1.10236220e-01, ...,\n",
       "        0.00000000e+00, 0.00000000e+00, 4.23076923e-01],\n",
       "       [3.34200000e+03, 0.00000000e+00, 4.49943757e-03, ...,\n",
       "        1.44508671e-01, 6.66666667e-01, 5.22157996e-01],\n",
       "       [1.69090000e+04, 1.52941176e-01, 4.16197975e-01, ...,\n",
       "        0.00000000e+00, 0.00000000e+00, 2.50000000e-01],\n",
       "       ...,\n",
       "       [1.37020000e+04, 0.00000000e+00, 1.68728909e-02, ...,\n",
       "        2.58302583e-02, 1.54981550e-01, 2.87822878e-01],\n",
       "       [2.19100000e+03, 4.47058824e-01, 4.45444319e-01, ...,\n",
       "        0.00000000e+00, 0.00000000e+00, 3.33333333e-01],\n",
       "       [1.08630000e+04, 0.00000000e+00, 8.32395951e-02, ...,\n",
       "        0.00000000e+00, 3.32197615e-02, 3.04940375e-01]])"
      ]
     },
     "execution_count": 32,
     "metadata": {},
     "output_type": "execute_result"
    }
   ],
   "source": [
    "X_train_1 = np.c_[X_train,t_arr]\n",
    "X_train_1"
   ]
  },
  {
   "cell_type": "code",
   "execution_count": 8,
   "metadata": {},
   "outputs": [],
   "source": [
    "# 用完整的模型跑一个\n",
    "mbk = get_pickle('KNN_appType_completed.pkl')"
   ]
  },
  {
   "cell_type": "code",
   "execution_count": 37,
   "metadata": {},
   "outputs": [],
   "source": [
    "X_train_1 = pre_treatment(X_train,quick_pattern=True, model='completed')"
   ]
  },
  {
   "cell_type": "code",
   "execution_count": 38,
   "metadata": {},
   "outputs": [
    {
     "data": {
      "text/plain": [
       "(14052, 5)"
      ]
     },
     "execution_count": 38,
     "metadata": {},
     "output_type": "execute_result"
    }
   ],
   "source": [
    "X_train.shape"
   ]
  },
  {
   "cell_type": "markdown",
   "metadata": {},
   "source": [
    "删除矩阵的第一列："
   ]
  },
  {
   "cell_type": "code",
   "execution_count": 33,
   "metadata": {},
   "outputs": [
    {
     "data": {
      "text/plain": [
       "array([0.00000000e+00, 1.10236220e-01, 7.91272384e-03, 6.81377015e-04,\n",
       "       7.69230769e-02, 0.00000000e+00, 3.46153846e-01, 0.00000000e+00,\n",
       "       0.00000000e+00, 2.30769231e-01, 0.00000000e+00, 6.92307692e-01,\n",
       "       0.00000000e+00, 0.00000000e+00, 5.00000000e-01, 1.00000000e+00,\n",
       "       0.00000000e+00, 0.00000000e+00, 0.00000000e+00, 1.92307692e-01,\n",
       "       0.00000000e+00, 0.00000000e+00, 0.00000000e+00, 4.23076923e-01])"
      ]
     },
     "execution_count": 33,
     "metadata": {},
     "output_type": "execute_result"
    }
   ],
   "source": [
    "X_train_1 = np.delete(X_train_1, 0, axis=1)\n",
    "X_train_1[0,:]"
   ]
  },
  {
   "cell_type": "markdown",
   "metadata": {},
   "source": [
    "### 验证集"
   ]
  },
  {
   "cell_type": "markdown",
   "metadata": {},
   "source": [
    "下面对验证集也做同样处理，添加上app_type:"
   ]
  },
  {
   "cell_type": "code",
   "execution_count": 36,
   "metadata": {},
   "outputs": [],
   "source": [
    "# 创建array\n",
    "device_id_list_test = list(tuple(int(i)for i in X_holdout[:,0]))\n",
    "\n",
    "# 取出训练集范围的标签列表\n",
    "af_test = data_train_events[data_train_events['device_id'].isin(device_id_list_test)].reset_index(drop=True)\n",
    "\n",
    "w = 26\n",
    "h = af_test.shape[0]\n",
    "array_tag_test = np.zeros([h,w])\n",
    "\n",
    "# tag_list标签最值\n",
    "mmin = 1\n",
    "mmax = 1021"
   ]
  },
  {
   "cell_type": "code",
   "execution_count": 37,
   "metadata": {},
   "outputs": [
    {
     "name": "stdout",
     "output_type": "stream",
     "text": [
      "[[0.53627451 0.5372549  0.24509804 0.25588235 0.         0.\n",
      "  0.         0.         0.         0.         0.         0.\n",
      "  0.         0.         0.         0.         0.         0.\n",
      "  0.         0.         0.         0.         0.         0.\n",
      "  0.         0.        ]]\n"
     ]
    }
   ],
   "source": [
    "# 获取app特征矩阵\n",
    "for i in range(0,af_test.shape[0]):\n",
    "    tag_list = af_test.loc[i,'tag_list']\n",
    "#     print(type(tag_list))\n",
    "    r = tag_list[1:-1].split(',')\n",
    "    li = [min_max(int(s),mmin,mmax) for s in r] #归一化\n",
    "    for j in range(0,len(li)):\n",
    "        array_tag_test[i][j] = li[j]\n",
    "print(array_tag_test[:1])"
   ]
  },
  {
   "cell_type": "code",
   "execution_count": 42,
   "metadata": {},
   "outputs": [
    {
     "data": {
      "text/plain": [
       "(3085164, 26)"
      ]
     },
     "execution_count": 42,
     "metadata": {},
     "output_type": "execute_result"
    }
   ],
   "source": [
    "array_tag_test.shape"
   ]
  },
  {
   "cell_type": "code",
   "execution_count": 38,
   "metadata": {},
   "outputs": [
    {
     "data": {
      "text/html": [
       "<div>\n",
       "<style scoped>\n",
       "    .dataframe tbody tr th:only-of-type {\n",
       "        vertical-align: middle;\n",
       "    }\n",
       "\n",
       "    .dataframe tbody tr th {\n",
       "        vertical-align: top;\n",
       "    }\n",
       "\n",
       "    .dataframe thead th {\n",
       "        text-align: right;\n",
       "    }\n",
       "</style>\n",
       "<table border=\"1\" class=\"dataframe\">\n",
       "  <thead>\n",
       "    <tr style=\"text-align: right;\">\n",
       "      <th></th>\n",
       "      <th>event_id</th>\n",
       "      <th>app_id</th>\n",
       "      <th>is_installed</th>\n",
       "      <th>is_active</th>\n",
       "      <th>device_id</th>\n",
       "      <th>tag_list</th>\n",
       "      <th>date</th>\n",
       "      <th>app_type</th>\n",
       "    </tr>\n",
       "  </thead>\n",
       "  <tbody>\n",
       "    <tr>\n",
       "      <th>0</th>\n",
       "      <td>189</td>\n",
       "      <td>486</td>\n",
       "      <td>1</td>\n",
       "      <td>0</td>\n",
       "      <td>12239</td>\n",
       "      <td>[548, 549, 251, 262]</td>\n",
       "      <td>2</td>\n",
       "      <td>11</td>\n",
       "    </tr>\n",
       "    <tr>\n",
       "      <th>1</th>\n",
       "      <td>189</td>\n",
       "      <td>0</td>\n",
       "      <td>1</td>\n",
       "      <td>0</td>\n",
       "      <td>12239</td>\n",
       "      <td>[549, 721, 704, 302, 303, 548, 183]</td>\n",
       "      <td>2</td>\n",
       "      <td>0</td>\n",
       "    </tr>\n",
       "    <tr>\n",
       "      <th>2</th>\n",
       "      <td>189</td>\n",
       "      <td>2</td>\n",
       "      <td>1</td>\n",
       "      <td>1</td>\n",
       "      <td>12239</td>\n",
       "      <td>[549, 710, 704, 548, 172]</td>\n",
       "      <td>2</td>\n",
       "      <td>10</td>\n",
       "    </tr>\n",
       "    <tr>\n",
       "      <th>3</th>\n",
       "      <td>189</td>\n",
       "      <td>47</td>\n",
       "      <td>1</td>\n",
       "      <td>0</td>\n",
       "      <td>12239</td>\n",
       "      <td>[721, 704, 548, 302, 303]</td>\n",
       "      <td>2</td>\n",
       "      <td>2</td>\n",
       "    </tr>\n",
       "    <tr>\n",
       "      <th>4</th>\n",
       "      <td>189</td>\n",
       "      <td>191</td>\n",
       "      <td>1</td>\n",
       "      <td>0</td>\n",
       "      <td>12239</td>\n",
       "      <td>[713, 704, 548, 302, 303, 163]</td>\n",
       "      <td>2</td>\n",
       "      <td>2</td>\n",
       "    </tr>\n",
       "  </tbody>\n",
       "</table>\n",
       "</div>"
      ],
      "text/plain": [
       "   event_id  app_id  is_installed  is_active  device_id  \\\n",
       "0       189     486             1          0      12239   \n",
       "1       189       0             1          0      12239   \n",
       "2       189       2             1          1      12239   \n",
       "3       189      47             1          0      12239   \n",
       "4       189     191             1          0      12239   \n",
       "\n",
       "                              tag_list  date  app_type  \n",
       "0                 [548, 549, 251, 262]     2        11  \n",
       "1  [549, 721, 704, 302, 303, 548, 183]     2         0  \n",
       "2            [549, 710, 704, 548, 172]     2        10  \n",
       "3            [721, 704, 548, 302, 303]     2         2  \n",
       "4       [713, 704, 548, 302, 303, 163]     2         2  "
      ]
     },
     "execution_count": 38,
     "metadata": {},
     "output_type": "execute_result"
    }
   ],
   "source": [
    "n_clusters = 20\n",
    "random_state = 17\n",
    "batch_size = 100\n",
    "\n",
    "mbm_test_pred = mbk.predict(array_tag_test)\n",
    "af_test['app_type'] = pd.Series(mbm_test_pred)\n",
    "\n",
    "af_test.head()"
   ]
  },
  {
   "cell_type": "code",
   "execution_count": 46,
   "metadata": {},
   "outputs": [
    {
     "data": {
      "text/plain": [
       "array([0.01176471, 0.03262092, 0.0167112 , 0.01305709, 0.08870968,\n",
       "       0.15725806, 0.22177419, 0.        , 0.        , 0.22177419,\n",
       "       0.08870968, 0.22177419, 0.        , 0.        , 0.41532258,\n",
       "       1.        , 0.17741935, 0.13306452, 0.        , 0.08870968,\n",
       "       0.04435484, 0.04435484, 0.04435484, 0.38306452])"
      ]
     },
     "execution_count": 46,
     "metadata": {},
     "output_type": "execute_result"
    }
   ],
   "source": [
    "af_test['pre_index'] = af_test['is_installed'] + 1.5 * af_test['is_active']\n",
    "pre_index_sum_test = af_test.groupby(['device_id','app_type'])['pre_index'].agg(np.sum)\n",
    "\n",
    "t_arr = np.zeros([X_holdout.shape[0],20])\n",
    "for i in range(0,X_holdout.shape[0]):\n",
    "    did = int(X_holdout[i][0])\n",
    "    for j_i,j in enumerate(list(pre_index_sum_test[did].index)):\n",
    "        t_arr[i][j] = pre_index_sum_test[did].values[j_i]\n",
    "\n",
    "# 归一化\n",
    "for i in range(0,t_arr.shape[0]):\n",
    "    t_arr[i,:] = (t_arr[i,:] - np.min(t_arr[i,:])) / (np.max(t_arr[i,:]) - np.min(t_arr[i,:]))\n",
    "    \n",
    "# 合并\n",
    "X_holdout_1 = np.c_[X_holdout,t_arr]\n",
    "\n",
    "# 删除第一列\n",
    "X_holdout_1 = np.delete(X_holdout_1, 0, axis=1)\n",
    "X_holdout_1[0,:]"
   ]
  },
  {
   "cell_type": "code",
   "execution_count": 38,
   "metadata": {},
   "outputs": [],
   "source": [
    "# 用完整的模型跑一个\n",
    "X_holdout_1 = pre_treatment(X_holdout,quick_pattern=True,model='completed')"
   ]
  },
  {
   "cell_type": "markdown",
   "metadata": {},
   "source": [
    "## 2.2 训练模型"
   ]
  },
  {
   "cell_type": "markdown",
   "metadata": {},
   "source": [
    "在训练（如下）中发现，KNN在本任务中有比决策树更优的表现，因此选择KNN作为性别预测模型。"
   ]
  },
  {
   "cell_type": "markdown",
   "metadata": {},
   "source": [
    "### 2.2.1 决策树"
   ]
  },
  {
   "cell_type": "markdown",
   "metadata": {},
   "source": [
    "模型训练："
   ]
  },
  {
   "cell_type": "code",
   "execution_count": 39,
   "metadata": {},
   "outputs": [],
   "source": [
    "from sklearn.model_selection import train_test_split, StratifiedKFold\n",
    "from sklearn.tree import DecisionTreeClassifier"
   ]
  },
  {
   "cell_type": "code",
   "execution_count": 40,
   "metadata": {},
   "outputs": [
    {
     "data": {
      "text/plain": [
       "DecisionTreeClassifier(ccp_alpha=0.0, class_weight=None, criterion='entropy',\n",
       "                       max_depth=6, max_features=None, max_leaf_nodes=None,\n",
       "                       min_impurity_decrease=0.0, min_impurity_split=None,\n",
       "                       min_samples_leaf=1, min_samples_split=2,\n",
       "                       min_weight_fraction_leaf=0.0, presort='deprecated',\n",
       "                       random_state=17, splitter='best')"
      ]
     },
     "execution_count": 40,
     "metadata": {},
     "output_type": "execute_result"
    }
   ],
   "source": [
    "tree = DecisionTreeClassifier(criterion='entropy',max_depth=6, random_state=17)\n",
    "tree.fit(X_train_1, y_train)"
   ]
  },
  {
   "cell_type": "code",
   "execution_count": 45,
   "metadata": {},
   "outputs": [],
   "source": [
    "set_pickle('DecisionTreeClassifier.model',tree)"
   ]
  },
  {
   "cell_type": "markdown",
   "metadata": {},
   "source": [
    "验证和评估："
   ]
  },
  {
   "cell_type": "code",
   "execution_count": 41,
   "metadata": {},
   "outputs": [],
   "source": [
    "from sklearn.metrics import accuracy_score,mean_absolute_error"
   ]
  },
  {
   "cell_type": "code",
   "execution_count": 43,
   "metadata": {},
   "outputs": [
    {
     "data": {
      "text/plain": [
       "0.6520579903349442"
      ]
     },
     "execution_count": 43,
     "metadata": {},
     "output_type": "execute_result"
    }
   ],
   "source": [
    "tree_pred = tree.predict(X_holdout_1)\n",
    "accuracy_score(y_holdout, tree_pred)"
   ]
  },
  {
   "cell_type": "markdown",
   "metadata": {},
   "source": [
    "### 2.2.2 KNN"
   ]
  },
  {
   "cell_type": "markdown",
   "metadata": {},
   "source": [
    "模型训练："
   ]
  },
  {
   "cell_type": "code",
   "execution_count": 44,
   "metadata": {},
   "outputs": [],
   "source": [
    "from sklearn.neighbors import KNeighborsClassifier"
   ]
  },
  {
   "cell_type": "code",
   "execution_count": 112,
   "metadata": {},
   "outputs": [],
   "source": [
    "# 读取\n",
    "knn = get_pickle('KNeighborsClassifier.model')"
   ]
  },
  {
   "cell_type": "code",
   "execution_count": 61,
   "metadata": {},
   "outputs": [
    {
     "data": {
      "text/plain": [
       "KNeighborsClassifier(algorithm='auto', leaf_size=30, metric='minkowski',\n",
       "                     metric_params=None, n_jobs=None, n_neighbors=40, p=2,\n",
       "                     weights='uniform')"
      ]
     },
     "execution_count": 61,
     "metadata": {},
     "output_type": "execute_result"
    }
   ],
   "source": [
    "knn = KNeighborsClassifier(n_neighbors=40)\n",
    "knn.fit(X_train_1, y_train)"
   ]
  },
  {
   "cell_type": "code",
   "execution_count": 63,
   "metadata": {},
   "outputs": [],
   "source": [
    "set_pickle('KNeighborsClassifier.model',knn)"
   ]
  },
  {
   "cell_type": "markdown",
   "metadata": {},
   "source": [
    "验证和评估："
   ]
  },
  {
   "cell_type": "code",
   "execution_count": 62,
   "metadata": {},
   "outputs": [
    {
     "data": {
      "text/plain": [
       "0.6533911014830861"
      ]
     },
     "execution_count": 62,
     "metadata": {},
     "output_type": "execute_result"
    }
   ],
   "source": [
    "knn_pred = knn.predict(X_holdout_1)\n",
    "accuracy_score(y_holdout, knn_pred)"
   ]
  },
  {
   "cell_type": "markdown",
   "metadata": {},
   "source": [
    "# 3 任务二：年龄预测模型"
   ]
  },
  {
   "cell_type": "markdown",
   "metadata": {},
   "source": [
    "训练回归模型"
   ]
  },
  {
   "cell_type": "markdown",
   "metadata": {},
   "source": [
    "## 3.1 划分数据集"
   ]
  },
  {
   "cell_type": "code",
   "execution_count": 9,
   "metadata": {},
   "outputs": [
    {
     "data": {
      "text/html": [
       "<div>\n",
       "<style scoped>\n",
       "    .dataframe tbody tr th:only-of-type {\n",
       "        vertical-align: middle;\n",
       "    }\n",
       "\n",
       "    .dataframe tbody tr th {\n",
       "        vertical-align: top;\n",
       "    }\n",
       "\n",
       "    .dataframe thead th {\n",
       "        text-align: right;\n",
       "    }\n",
       "</style>\n",
       "<table border=\"1\" class=\"dataframe\">\n",
       "  <thead>\n",
       "    <tr style=\"text-align: right;\">\n",
       "      <th></th>\n",
       "      <th>device_id</th>\n",
       "      <th>phone_brand</th>\n",
       "      <th>device_model</th>\n",
       "      <th>active_index</th>\n",
       "      <th>pre_index</th>\n",
       "    </tr>\n",
       "  </thead>\n",
       "  <tbody>\n",
       "    <tr>\n",
       "      <th>0</th>\n",
       "      <td>0</td>\n",
       "      <td>0.000000</td>\n",
       "      <td>0.000000</td>\n",
       "      <td>0.000856</td>\n",
       "      <td>0.000951</td>\n",
       "    </tr>\n",
       "    <tr>\n",
       "      <th>1</th>\n",
       "      <td>1</td>\n",
       "      <td>0.011765</td>\n",
       "      <td>0.001125</td>\n",
       "      <td>0.002096</td>\n",
       "      <td>0.002131</td>\n",
       "    </tr>\n",
       "    <tr>\n",
       "      <th>2</th>\n",
       "      <td>2</td>\n",
       "      <td>0.011765</td>\n",
       "      <td>0.002250</td>\n",
       "      <td>0.004015</td>\n",
       "      <td>0.005071</td>\n",
       "    </tr>\n",
       "    <tr>\n",
       "      <th>3</th>\n",
       "      <td>3</td>\n",
       "      <td>0.011765</td>\n",
       "      <td>0.002250</td>\n",
       "      <td>0.002288</td>\n",
       "      <td>0.003217</td>\n",
       "    </tr>\n",
       "    <tr>\n",
       "      <th>4</th>\n",
       "      <td>4</td>\n",
       "      <td>0.023529</td>\n",
       "      <td>0.003375</td>\n",
       "      <td>0.005669</td>\n",
       "      <td>0.006742</td>\n",
       "    </tr>\n",
       "  </tbody>\n",
       "</table>\n",
       "</div>"
      ],
      "text/plain": [
       "   device_id  phone_brand  device_model  active_index  pre_index\n",
       "0          0     0.000000      0.000000      0.000856   0.000951\n",
       "1          1     0.011765      0.001125      0.002096   0.002131\n",
       "2          2     0.011765      0.002250      0.004015   0.005071\n",
       "3          3     0.011765      0.002250      0.002288   0.003217\n",
       "4          4     0.023529      0.003375      0.005669   0.006742"
      ]
     },
     "execution_count": 9,
     "metadata": {},
     "output_type": "execute_result"
    }
   ],
   "source": [
    "train_age = data_train.copy(deep=True)\n",
    "train_age['age'] = train_age['age'].astype('int64')\n",
    "y = train_age['age']\n",
    "# train_age.drop(['gender','age','device_id'],axis=1, inplace=True)\n",
    "train_age.drop(['gender','age'],axis=1, inplace=True)\n",
    "train_age = train_age.iloc[:,:17]\n",
    "train_age.head()"
   ]
  },
  {
   "cell_type": "code",
   "execution_count": 47,
   "metadata": {},
   "outputs": [],
   "source": [
    "X_train, X_holdout, y_train, y_holdout = train_test_split(train_age.values, y.values, test_size=0.3,random_state=17)"
   ]
  },
  {
   "cell_type": "code",
   "execution_count": 11,
   "metadata": {},
   "outputs": [
    {
     "data": {
      "text/plain": [
       "array([19, 33, 20, ..., 21, 39, 25], dtype=int64)"
      ]
     },
     "execution_count": 11,
     "metadata": {},
     "output_type": "execute_result"
    }
   ],
   "source": [
    "y_train"
   ]
  },
  {
   "cell_type": "code",
   "execution_count": 48,
   "metadata": {},
   "outputs": [],
   "source": [
    "X_train_1 = pre_treatment(X_train)\n",
    "X_holdout_1 = pre_treatment(X_holdout)"
   ]
  },
  {
   "cell_type": "markdown",
   "metadata": {},
   "source": [
    "## 3.2 训练模型"
   ]
  },
  {
   "cell_type": "markdown",
   "metadata": {},
   "source": [
    "### 3.2.1 简单线性回归"
   ]
  },
  {
   "cell_type": "markdown",
   "metadata": {},
   "source": [
    "训练模型："
   ]
  },
  {
   "cell_type": "code",
   "execution_count": 67,
   "metadata": {},
   "outputs": [],
   "source": [
    "from sklearn.linear_model import LinearRegression"
   ]
  },
  {
   "cell_type": "code",
   "execution_count": 68,
   "metadata": {},
   "outputs": [
    {
     "data": {
      "text/plain": [
       "LinearRegression(copy_X=True, fit_intercept=True, n_jobs=None, normalize=False)"
      ]
     },
     "execution_count": 68,
     "metadata": {},
     "output_type": "execute_result"
    }
   ],
   "source": [
    "lin_reg = LinearRegression()\n",
    "lin_reg.fit(X_train_1,y_train)"
   ]
  },
  {
   "cell_type": "markdown",
   "metadata": {},
   "source": [
    "验证与评估："
   ]
  },
  {
   "cell_type": "code",
   "execution_count": 69,
   "metadata": {},
   "outputs": [
    {
     "data": {
      "text/plain": [
       "0.12111243415608791"
      ]
     },
     "execution_count": 69,
     "metadata": {},
     "output_type": "execute_result"
    }
   ],
   "source": [
    "linreg_pred = lin_reg.predict(X_holdout_1)\n",
    "1 / (1 + mean_absolute_error(y_holdout, np.round(linreg_pred)))"
   ]
  },
  {
   "cell_type": "markdown",
   "metadata": {},
   "source": [
    "保存模型："
   ]
  },
  {
   "cell_type": "code",
   "execution_count": 70,
   "metadata": {},
   "outputs": [],
   "source": [
    "set_pickle('LinearRegression.model',lin_reg)"
   ]
  },
  {
   "cell_type": "markdown",
   "metadata": {},
   "source": [
    "### 3.2.2 多元线性回归"
   ]
  },
  {
   "cell_type": "markdown",
   "metadata": {},
   "source": [
    "训练模型："
   ]
  },
  {
   "cell_type": "code",
   "execution_count": 20,
   "metadata": {},
   "outputs": [],
   "source": [
    "# import\n",
    "from sklearn.linear_model import SGDRegressor\n",
    "from sklearn.model_selection import cross_val_score\n",
    "from sklearn.preprocessing import StandardScaler"
   ]
  },
  {
   "cell_type": "markdown",
   "metadata": {},
   "source": [
    "Z-score标准化："
   ]
  },
  {
   "cell_type": "code",
   "execution_count": 49,
   "metadata": {},
   "outputs": [],
   "source": [
    "X_scaler = StandardScaler()\n",
    "y_scaler = StandardScaler()"
   ]
  },
  {
   "cell_type": "code",
   "execution_count": 60,
   "metadata": {},
   "outputs": [],
   "source": [
    "# 训练集\n",
    "X_scaler.fit(X_train_1)\n",
    "X_train_scaled = X_scaler.transform(X_train_1)\n",
    "\n",
    "y_scaler.fit(y_train.reshape(-1,1))\n",
    "# y_train_scaled = y_scaler.transform(y_train.reshape(-1,1))\n",
    "\n",
    "# 验证集\n",
    "X_holdout_scaled = X_scaler.transform(X_holdout_1)\n",
    "# y_holdout_scaled = y_scaler.transform(y_holdout.reshape(-1,1))"
   ]
  },
  {
   "cell_type": "markdown",
   "metadata": {},
   "source": [
    "使用随机梯度下降法拟合模型："
   ]
  },
  {
   "cell_type": "code",
   "execution_count": 61,
   "metadata": {},
   "outputs": [],
   "source": [
    "regressor = SGDRegressor(loss='squared_loss')\n",
    "# scores = cross_val_score(regressor, X_train_1,y_train,cv=5)\n",
    "# regressor.fit(X_train_scaled,y_train_scaled)\n",
    "regressor.fit(X_train_scaled,y_train)\n",
    "reg_pred_scaled = regressor.predict(X_holdout_scaled)"
   ]
  },
  {
   "cell_type": "code",
   "execution_count": 62,
   "metadata": {},
   "outputs": [
    {
     "data": {
      "text/plain": [
       "array([33.97808306, 31.89342506, 31.44115559, ..., 32.10091725,\n",
       "       34.47900349, 42.06841974])"
      ]
     },
     "execution_count": 62,
     "metadata": {},
     "output_type": "execute_result"
    }
   ],
   "source": [
    "reg_pred_scaled"
   ]
  },
  {
   "cell_type": "markdown",
   "metadata": {},
   "source": [
    "验证与评估："
   ]
  },
  {
   "cell_type": "code",
   "execution_count": 57,
   "metadata": {},
   "outputs": [
    {
     "data": {
      "text/plain": [
       "0.5795560656202156"
      ]
     },
     "execution_count": 57,
     "metadata": {},
     "output_type": "execute_result"
    }
   ],
   "source": [
    "1 / (1 + mean_absolute_error(y_holdout_scaled, reg_pred_scaled))"
   ]
  },
  {
   "cell_type": "markdown",
   "metadata": {},
   "source": [
    "还原预测结果："
   ]
  },
  {
   "cell_type": "code",
   "execution_count": 55,
   "metadata": {},
   "outputs": [
    {
     "data": {
      "text/plain": [
       "array([33.26367874, 31.87161875, 33.54482918, ..., 29.82571231,\n",
       "       32.36839788, 39.64694147])"
      ]
     },
     "execution_count": 55,
     "metadata": {},
     "output_type": "execute_result"
    }
   ],
   "source": [
    "y_scaler.inverse_transform(reg_pred_scaled)"
   ]
  },
  {
   "cell_type": "markdown",
   "metadata": {},
   "source": [
    "保存模型："
   ]
  },
  {
   "cell_type": "code",
   "execution_count": 63,
   "metadata": {},
   "outputs": [],
   "source": [
    "set_pickle('SGDRegressor.model',regressor)"
   ]
  },
  {
   "cell_type": "markdown",
   "metadata": {},
   "source": [
    "保存映射模型："
   ]
  },
  {
   "cell_type": "code",
   "execution_count": 59,
   "metadata": {},
   "outputs": [],
   "source": [
    "set_pickle('y_scaler.model',y_scaler)"
   ]
  },
  {
   "cell_type": "code",
   "execution_count": null,
   "metadata": {},
   "outputs": [],
   "source": []
  }
 ],
 "metadata": {
  "kernelspec": {
   "display_name": "Python 3",
   "language": "python",
   "name": "python3"
  },
  "language_info": {
   "codemirror_mode": {
    "name": "ipython",
    "version": 3
   },
   "file_extension": ".py",
   "mimetype": "text/x-python",
   "name": "python",
   "nbconvert_exporter": "python",
   "pygments_lexer": "ipython3",
   "version": "3.7.3"
  }
 },
 "nbformat": 4,
 "nbformat_minor": 2
}
