{
 "cells": [
  {
   "cell_type": "markdown",
   "metadata": {},
   "source": [
    "提交log\n",
    "\n",
    "| 次数 | 提交时间 | 任务一模型 | 任务二模型 | 改进 |\n",
    "| :---: | :---:| :---: | :---: | :--- |\n",
    "| 第一次 | 2021-09-25 02:05:01 | KNN | 简单线性回归 | |\n",
    "| 第二次 | 2021-10-08 01:39:11 | KNN | 简单线性回归 | ①根据tag_list,用KMeans将app分为20类②定义pre_index衡量用户的对应用的偏好 |\n",
    "| 第三次 | 2021-10-10 22:13:19 | KNN | 多元线性回归 | 将年龄预测模型改为基于梯度下降的多元线性回归 |"
   ]
  },
  {
   "cell_type": "markdown",
   "metadata": {},
   "source": [
    "# 1. 预处理"
   ]
  },
  {
   "cell_type": "markdown",
   "metadata": {},
   "source": [
    "## 1.1 读入文件"
   ]
  },
  {
   "cell_type": "code",
   "execution_count": 2,
   "metadata": {},
   "outputs": [],
   "source": [
    "#import\n",
    "import pandas as pd\n",
    "import numpy as np"
   ]
  },
  {
   "cell_type": "code",
   "execution_count": 2,
   "metadata": {},
   "outputs": [],
   "source": [
    "# setting\n",
    "pd.set_option(\"display.max_rows\",None)"
   ]
  },
  {
   "cell_type": "code",
   "execution_count": 3,
   "metadata": {},
   "outputs": [],
   "source": [
    "root_path = 'F:/代码仓/python/讯飞_移动设备用户年龄和性别预测/移动设备用户年龄和性别预测_数据集/'\n",
    "# read test files\n",
    "test_file_name = \"test.csv\"\n",
    "test_file_path = root_path + test_file_name\n",
    "\n",
    "data_test = pd.read_csv(test_file_path)\n",
    "\n",
    "test_events_file_name = \"test_app_events.csv\"\n",
    "test_events_file_path = root_path + test_events_file_name\n",
    "\n",
    "data_test_events = pd.read_csv(test_events_file_path)"
   ]
  },
  {
   "cell_type": "code",
   "execution_count": 12,
   "metadata": {},
   "outputs": [
    {
     "data": {
      "text/html": [
       "<div>\n",
       "<style scoped>\n",
       "    .dataframe tbody tr th:only-of-type {\n",
       "        vertical-align: middle;\n",
       "    }\n",
       "\n",
       "    .dataframe tbody tr th {\n",
       "        vertical-align: top;\n",
       "    }\n",
       "\n",
       "    .dataframe thead th {\n",
       "        text-align: right;\n",
       "    }\n",
       "</style>\n",
       "<table border=\"1\" class=\"dataframe\">\n",
       "  <thead>\n",
       "    <tr style=\"text-align: right;\">\n",
       "      <th></th>\n",
       "      <th>device_id</th>\n",
       "      <th>phone_brand</th>\n",
       "      <th>device_model</th>\n",
       "    </tr>\n",
       "  </thead>\n",
       "  <tbody>\n",
       "    <tr>\n",
       "      <th>0</th>\n",
       "      <td>20000</td>\n",
       "      <td>0.034091</td>\n",
       "      <td>0.063784</td>\n",
       "    </tr>\n",
       "    <tr>\n",
       "      <th>1</th>\n",
       "      <td>20001</td>\n",
       "      <td>0.034091</td>\n",
       "      <td>0.063784</td>\n",
       "    </tr>\n",
       "    <tr>\n",
       "      <th>2</th>\n",
       "      <td>20002</td>\n",
       "      <td>0.000000</td>\n",
       "      <td>0.010811</td>\n",
       "    </tr>\n",
       "    <tr>\n",
       "      <th>3</th>\n",
       "      <td>20003</td>\n",
       "      <td>0.420455</td>\n",
       "      <td>0.817297</td>\n",
       "    </tr>\n",
       "    <tr>\n",
       "      <th>4</th>\n",
       "      <td>20004</td>\n",
       "      <td>0.022727</td>\n",
       "      <td>0.003243</td>\n",
       "    </tr>\n",
       "  </tbody>\n",
       "</table>\n",
       "</div>"
      ],
      "text/plain": [
       "   device_id  phone_brand  device_model\n",
       "0      20000     0.034091      0.063784\n",
       "1      20001     0.034091      0.063784\n",
       "2      20002     0.000000      0.010811\n",
       "3      20003     0.420455      0.817297\n",
       "4      20004     0.022727      0.003243"
      ]
     },
     "execution_count": 12,
     "metadata": {},
     "output_type": "execute_result"
    }
   ],
   "source": [
    "data_test.head()"
   ]
  },
  {
   "cell_type": "code",
   "execution_count": 13,
   "metadata": {},
   "outputs": [
    {
     "data": {
      "text/html": [
       "<div>\n",
       "<style scoped>\n",
       "    .dataframe tbody tr th:only-of-type {\n",
       "        vertical-align: middle;\n",
       "    }\n",
       "\n",
       "    .dataframe tbody tr th {\n",
       "        vertical-align: top;\n",
       "    }\n",
       "\n",
       "    .dataframe thead th {\n",
       "        text-align: right;\n",
       "    }\n",
       "</style>\n",
       "<table border=\"1\" class=\"dataframe\">\n",
       "  <thead>\n",
       "    <tr style=\"text-align: right;\">\n",
       "      <th></th>\n",
       "      <th>event_id</th>\n",
       "      <th>app_id</th>\n",
       "      <th>is_installed</th>\n",
       "      <th>is_active</th>\n",
       "      <th>device_id</th>\n",
       "      <th>tag_list</th>\n",
       "      <th>date</th>\n",
       "    </tr>\n",
       "  </thead>\n",
       "  <tbody>\n",
       "    <tr>\n",
       "      <th>0</th>\n",
       "      <td>39</td>\n",
       "      <td>1</td>\n",
       "      <td>1</td>\n",
       "      <td>1</td>\n",
       "      <td>20944</td>\n",
       "      <td>[713, 704, 548]</td>\n",
       "      <td>1</td>\n",
       "    </tr>\n",
       "    <tr>\n",
       "      <th>1</th>\n",
       "      <td>39</td>\n",
       "      <td>2</td>\n",
       "      <td>1</td>\n",
       "      <td>1</td>\n",
       "      <td>20944</td>\n",
       "      <td>[549, 710, 704, 548, 172]</td>\n",
       "      <td>1</td>\n",
       "    </tr>\n",
       "    <tr>\n",
       "      <th>2</th>\n",
       "      <td>39</td>\n",
       "      <td>67</td>\n",
       "      <td>1</td>\n",
       "      <td>0</td>\n",
       "      <td>20944</td>\n",
       "      <td>[549, 713, 704, 548, 730, 756, 757, 775, 779, ...</td>\n",
       "      <td>1</td>\n",
       "    </tr>\n",
       "    <tr>\n",
       "      <th>3</th>\n",
       "      <td>39</td>\n",
       "      <td>68</td>\n",
       "      <td>1</td>\n",
       "      <td>0</td>\n",
       "      <td>20944</td>\n",
       "      <td>[714, 723, 548, 704, 178]</td>\n",
       "      <td>1</td>\n",
       "    </tr>\n",
       "    <tr>\n",
       "      <th>4</th>\n",
       "      <td>39</td>\n",
       "      <td>69</td>\n",
       "      <td>1</td>\n",
       "      <td>0</td>\n",
       "      <td>20944</td>\n",
       "      <td>[130, 223, 130]</td>\n",
       "      <td>1</td>\n",
       "    </tr>\n",
       "  </tbody>\n",
       "</table>\n",
       "</div>"
      ],
      "text/plain": [
       "   event_id  app_id  is_installed  is_active  device_id  \\\n",
       "0        39       1             1          1      20944   \n",
       "1        39       2             1          1      20944   \n",
       "2        39      67             1          0      20944   \n",
       "3        39      68             1          0      20944   \n",
       "4        39      69             1          0      20944   \n",
       "\n",
       "                                            tag_list  date  \n",
       "0                                    [713, 704, 548]     1  \n",
       "1                          [549, 710, 704, 548, 172]     1  \n",
       "2  [549, 713, 704, 548, 730, 756, 757, 775, 779, ...     1  \n",
       "3                          [714, 723, 548, 704, 178]     1  \n",
       "4                                    [130, 223, 130]     1  "
      ]
     },
     "execution_count": 13,
     "metadata": {},
     "output_type": "execute_result"
    }
   ],
   "source": [
    "data_test_events.head()"
   ]
  },
  {
   "cell_type": "markdown",
   "metadata": {},
   "source": [
    "## 1.2 数据清洗"
   ]
  },
  {
   "cell_type": "code",
   "execution_count": 4,
   "metadata": {},
   "outputs": [
    {
     "name": "stdout",
     "output_type": "stream",
     "text": [
      "<class 'pandas.core.frame.DataFrame'>\n",
      "RangeIndex: 3306 entries, 0 to 3305\n",
      "Data columns (total 3 columns):\n",
      "device_id       3306 non-null int64\n",
      "phone_brand     3306 non-null int64\n",
      "device_model    3306 non-null int64\n",
      "dtypes: int64(3)\n",
      "memory usage: 77.6 KB\n"
     ]
    }
   ],
   "source": [
    "data_test.info()"
   ]
  },
  {
   "cell_type": "markdown",
   "metadata": {},
   "source": [
    "### 1.2.1 空值"
   ]
  },
  {
   "cell_type": "code",
   "execution_count": 5,
   "metadata": {},
   "outputs": [
    {
     "data": {
      "text/html": [
       "<div>\n",
       "<style scoped>\n",
       "    .dataframe tbody tr th:only-of-type {\n",
       "        vertical-align: middle;\n",
       "    }\n",
       "\n",
       "    .dataframe tbody tr th {\n",
       "        vertical-align: top;\n",
       "    }\n",
       "\n",
       "    .dataframe thead th {\n",
       "        text-align: right;\n",
       "    }\n",
       "</style>\n",
       "<table border=\"1\" class=\"dataframe\">\n",
       "  <thead>\n",
       "    <tr style=\"text-align: right;\">\n",
       "      <th></th>\n",
       "      <th>device_id</th>\n",
       "      <th>phone_brand</th>\n",
       "      <th>device_model</th>\n",
       "    </tr>\n",
       "  </thead>\n",
       "  <tbody>\n",
       "  </tbody>\n",
       "</table>\n",
       "</div>"
      ],
      "text/plain": [
       "Empty DataFrame\n",
       "Columns: [device_id, phone_brand, device_model]\n",
       "Index: []"
      ]
     },
     "execution_count": 5,
     "metadata": {},
     "output_type": "execute_result"
    }
   ],
   "source": [
    "data_test[data_test['device_id'].isnull()==True]"
   ]
  },
  {
   "cell_type": "markdown",
   "metadata": {},
   "source": [
    "无空值"
   ]
  },
  {
   "cell_type": "markdown",
   "metadata": {},
   "source": [
    "### 1.2.2 重复值"
   ]
  },
  {
   "cell_type": "code",
   "execution_count": 9,
   "metadata": {},
   "outputs": [
    {
     "data": {
      "text/plain": [
       "3290"
      ]
     },
     "execution_count": 9,
     "metadata": {},
     "output_type": "execute_result"
    }
   ],
   "source": [
    "data_test['device_id'].unique().shape[0]"
   ]
  },
  {
   "cell_type": "code",
   "execution_count": 100,
   "metadata": {},
   "outputs": [
    {
     "data": {
      "text/html": [
       "<div>\n",
       "<style scoped>\n",
       "    .dataframe tbody tr th:only-of-type {\n",
       "        vertical-align: middle;\n",
       "    }\n",
       "\n",
       "    .dataframe tbody tr th {\n",
       "        vertical-align: top;\n",
       "    }\n",
       "\n",
       "    .dataframe thead th {\n",
       "        text-align: right;\n",
       "    }\n",
       "</style>\n",
       "<table border=\"1\" class=\"dataframe\">\n",
       "  <thead>\n",
       "    <tr style=\"text-align: right;\">\n",
       "      <th></th>\n",
       "      <th>device_id</th>\n",
       "      <th>phone_brand</th>\n",
       "      <th>device_model</th>\n",
       "    </tr>\n",
       "  </thead>\n",
       "  <tbody>\n",
       "    <tr>\n",
       "      <th>601</th>\n",
       "      <td>20600</td>\n",
       "      <td>3</td>\n",
       "      <td>48</td>\n",
       "    </tr>\n",
       "    <tr>\n",
       "      <th>953</th>\n",
       "      <td>20951</td>\n",
       "      <td>1</td>\n",
       "      <td>466</td>\n",
       "    </tr>\n",
       "    <tr>\n",
       "      <th>961</th>\n",
       "      <td>20958</td>\n",
       "      <td>1</td>\n",
       "      <td>25</td>\n",
       "    </tr>\n",
       "    <tr>\n",
       "      <th>963</th>\n",
       "      <td>20959</td>\n",
       "      <td>3</td>\n",
       "      <td>60</td>\n",
       "    </tr>\n",
       "    <tr>\n",
       "      <th>985</th>\n",
       "      <td>20980</td>\n",
       "      <td>3</td>\n",
       "      <td>298</td>\n",
       "    </tr>\n",
       "    <tr>\n",
       "      <th>1150</th>\n",
       "      <td>21144</td>\n",
       "      <td>7</td>\n",
       "      <td>638</td>\n",
       "    </tr>\n",
       "    <tr>\n",
       "      <th>1359</th>\n",
       "      <td>21352</td>\n",
       "      <td>2</td>\n",
       "      <td>46</td>\n",
       "    </tr>\n",
       "    <tr>\n",
       "      <th>1365</th>\n",
       "      <td>21357</td>\n",
       "      <td>1</td>\n",
       "      <td>29</td>\n",
       "    </tr>\n",
       "    <tr>\n",
       "      <th>1542</th>\n",
       "      <td>21533</td>\n",
       "      <td>3</td>\n",
       "      <td>363</td>\n",
       "    </tr>\n",
       "    <tr>\n",
       "      <th>1933</th>\n",
       "      <td>21923</td>\n",
       "      <td>10</td>\n",
       "      <td>160</td>\n",
       "    </tr>\n",
       "    <tr>\n",
       "      <th>2023</th>\n",
       "      <td>22012</td>\n",
       "      <td>7</td>\n",
       "      <td>314</td>\n",
       "    </tr>\n",
       "    <tr>\n",
       "      <th>2402</th>\n",
       "      <td>22390</td>\n",
       "      <td>7</td>\n",
       "      <td>403</td>\n",
       "    </tr>\n",
       "    <tr>\n",
       "      <th>2414</th>\n",
       "      <td>22401</td>\n",
       "      <td>7</td>\n",
       "      <td>139</td>\n",
       "    </tr>\n",
       "    <tr>\n",
       "      <th>2812</th>\n",
       "      <td>22798</td>\n",
       "      <td>0</td>\n",
       "      <td>95</td>\n",
       "    </tr>\n",
       "    <tr>\n",
       "      <th>2834</th>\n",
       "      <td>22819</td>\n",
       "      <td>1</td>\n",
       "      <td>257</td>\n",
       "    </tr>\n",
       "    <tr>\n",
       "      <th>3039</th>\n",
       "      <td>23023</td>\n",
       "      <td>10</td>\n",
       "      <td>250</td>\n",
       "    </tr>\n",
       "  </tbody>\n",
       "</table>\n",
       "</div>"
      ],
      "text/plain": [
       "      device_id  phone_brand  device_model\n",
       "601       20600            3            48\n",
       "953       20951            1           466\n",
       "961       20958            1            25\n",
       "963       20959            3            60\n",
       "985       20980            3           298\n",
       "1150      21144            7           638\n",
       "1359      21352            2            46\n",
       "1365      21357            1            29\n",
       "1542      21533            3           363\n",
       "1933      21923           10           160\n",
       "2023      22012            7           314\n",
       "2402      22390            7           403\n",
       "2414      22401            7           139\n",
       "2812      22798            0            95\n",
       "2834      22819            1           257\n",
       "3039      23023           10           250"
      ]
     },
     "execution_count": 100,
     "metadata": {},
     "output_type": "execute_result"
    }
   ],
   "source": [
    "data_test[data_test['device_id'].duplicated()==True]"
   ]
  },
  {
   "cell_type": "markdown",
   "metadata": {},
   "source": [
    "疑似存在重复行。"
   ]
  },
  {
   "cell_type": "code",
   "execution_count": 4,
   "metadata": {},
   "outputs": [
    {
     "name": "stdout",
     "output_type": "stream",
     "text": [
      "<class 'pandas.core.frame.DataFrame'>\n",
      "Int64Index: 3290 entries, 0 to 3305\n",
      "Data columns (total 3 columns):\n",
      "device_id       3290 non-null int64\n",
      "phone_brand     3290 non-null int64\n",
      "device_model    3290 non-null int64\n",
      "dtypes: int64(3)\n",
      "memory usage: 102.8 KB\n"
     ]
    }
   ],
   "source": [
    "data_test.drop_duplicates(inplace=True)\n",
    "data_test.info()"
   ]
  },
  {
   "cell_type": "code",
   "execution_count": 5,
   "metadata": {},
   "outputs": [
    {
     "name": "stdout",
     "output_type": "stream",
     "text": [
      "<class 'pandas.core.frame.DataFrame'>\n",
      "RangeIndex: 3290 entries, 0 to 3289\n",
      "Data columns (total 3 columns):\n",
      "device_id       3290 non-null int64\n",
      "phone_brand     3290 non-null int64\n",
      "device_model    3290 non-null int64\n",
      "dtypes: int64(3)\n",
      "memory usage: 77.2 KB\n"
     ]
    }
   ],
   "source": [
    "data_test = data_test.reset_index(drop=True)\n",
    "data_test.info()"
   ]
  },
  {
   "cell_type": "markdown",
   "metadata": {},
   "source": [
    "### 1.2.3 归一化"
   ]
  },
  {
   "cell_type": "code",
   "execution_count": 6,
   "metadata": {},
   "outputs": [],
   "source": [
    "# 归一化函数\n",
    "def min_max(x,mmin,mmax):\n",
    "    return (x-mmin) / (mmax-mmin)"
   ]
  },
  {
   "cell_type": "code",
   "execution_count": 7,
   "metadata": {},
   "outputs": [],
   "source": [
    "mmin = data_test['phone_brand'].min()\n",
    "mmax = data_test['phone_brand'].max()\n",
    "data_test['phone_brand'] = data_test['phone_brand'].apply(min_max,args=(mmin,mmax))\n",
    "\n",
    "mmin = data_test['device_model'].min()\n",
    "mmax = data_test['device_model'].max()\n",
    "data_test['device_model'] = data_test['device_model'].apply(min_max,args=(mmin,mmax))"
   ]
  },
  {
   "cell_type": "markdown",
   "metadata": {},
   "source": [
    "### 1.2.4 其它"
   ]
  },
  {
   "cell_type": "code",
   "execution_count": 8,
   "metadata": {},
   "outputs": [],
   "source": [
    "# 序列化函数\n",
    "def set_pickle(path, pk):\n",
    "    import pickle\n",
    "    f=open(path,'wb')\n",
    "    pickle.dump(pk,f)\n",
    "    f.close()\n",
    "\n",
    "# 反序列化\n",
    "def get_pickle(path):\n",
    "    import pickle\n",
    "    f=open(path,'rb')\n",
    "    pk = pickle.load(f)\n",
    "    f.close()\n",
    "    return pk"
   ]
  },
  {
   "cell_type": "markdown",
   "metadata": {},
   "source": [
    "对tag_list字段进行预处理，去除夹杂的双引号"
   ]
  },
  {
   "cell_type": "code",
   "execution_count": 9,
   "metadata": {},
   "outputs": [],
   "source": [
    "def delet_quote(row):\n",
    "    left = int(0)\n",
    "    right = len(row)\n",
    "    if row[0]=='\\\"':\n",
    "        left = int(1)\n",
    "    if row[-1]=='\\\"':\n",
    "        right = int(-1)\n",
    "    return row[left:right]\n",
    "data_test_events['tag_list'] = data_test_events['tag_list'].apply(delet_quote)"
   ]
  },
  {
   "cell_type": "code",
   "execution_count": 11,
   "metadata": {},
   "outputs": [
    {
     "data": {
      "text/html": [
       "<div>\n",
       "<style scoped>\n",
       "    .dataframe tbody tr th:only-of-type {\n",
       "        vertical-align: middle;\n",
       "    }\n",
       "\n",
       "    .dataframe tbody tr th {\n",
       "        vertical-align: top;\n",
       "    }\n",
       "\n",
       "    .dataframe thead th {\n",
       "        text-align: right;\n",
       "    }\n",
       "</style>\n",
       "<table border=\"1\" class=\"dataframe\">\n",
       "  <thead>\n",
       "    <tr style=\"text-align: right;\">\n",
       "      <th></th>\n",
       "      <th>event_id</th>\n",
       "      <th>app_id</th>\n",
       "      <th>is_installed</th>\n",
       "      <th>is_active</th>\n",
       "      <th>device_id</th>\n",
       "      <th>tag_list</th>\n",
       "      <th>date</th>\n",
       "    </tr>\n",
       "  </thead>\n",
       "  <tbody>\n",
       "    <tr>\n",
       "      <th>0</th>\n",
       "      <td>39</td>\n",
       "      <td>1</td>\n",
       "      <td>1</td>\n",
       "      <td>1</td>\n",
       "      <td>20944</td>\n",
       "      <td>[713, 704, 548]</td>\n",
       "      <td>1</td>\n",
       "    </tr>\n",
       "    <tr>\n",
       "      <th>1</th>\n",
       "      <td>39</td>\n",
       "      <td>2</td>\n",
       "      <td>1</td>\n",
       "      <td>1</td>\n",
       "      <td>20944</td>\n",
       "      <td>[549, 710, 704, 548, 172]</td>\n",
       "      <td>1</td>\n",
       "    </tr>\n",
       "    <tr>\n",
       "      <th>2</th>\n",
       "      <td>39</td>\n",
       "      <td>67</td>\n",
       "      <td>1</td>\n",
       "      <td>0</td>\n",
       "      <td>20944</td>\n",
       "      <td>[549, 713, 704, 548, 730, 756, 757, 775, 779, ...</td>\n",
       "      <td>1</td>\n",
       "    </tr>\n",
       "    <tr>\n",
       "      <th>3</th>\n",
       "      <td>39</td>\n",
       "      <td>68</td>\n",
       "      <td>1</td>\n",
       "      <td>0</td>\n",
       "      <td>20944</td>\n",
       "      <td>[714, 723, 548, 704, 178]</td>\n",
       "      <td>1</td>\n",
       "    </tr>\n",
       "    <tr>\n",
       "      <th>4</th>\n",
       "      <td>39</td>\n",
       "      <td>69</td>\n",
       "      <td>1</td>\n",
       "      <td>0</td>\n",
       "      <td>20944</td>\n",
       "      <td>[130, 223, 130]</td>\n",
       "      <td>1</td>\n",
       "    </tr>\n",
       "  </tbody>\n",
       "</table>\n",
       "</div>"
      ],
      "text/plain": [
       "   event_id  app_id  is_installed  is_active  device_id  \\\n",
       "0        39       1             1          1      20944   \n",
       "1        39       2             1          1      20944   \n",
       "2        39      67             1          0      20944   \n",
       "3        39      68             1          0      20944   \n",
       "4        39      69             1          0      20944   \n",
       "\n",
       "                                            tag_list  date  \n",
       "0                                    [713, 704, 548]     1  \n",
       "1                          [549, 710, 704, 548, 172]     1  \n",
       "2  [549, 713, 704, 548, 730, 756, 757, 775, 779, ...     1  \n",
       "3                          [714, 723, 548, 704, 178]     1  \n",
       "4                                    [130, 223, 130]     1  "
      ]
     },
     "execution_count": 11,
     "metadata": {},
     "output_type": "execute_result"
    }
   ],
   "source": [
    "data_test_events.head()"
   ]
  },
  {
   "cell_type": "markdown",
   "metadata": {},
   "source": [
    "## 1.3 从event数据集提取特征"
   ]
  },
  {
   "cell_type": "code",
   "execution_count": 12,
   "metadata": {},
   "outputs": [
    {
     "data": {
      "text/html": [
       "<div>\n",
       "<style scoped>\n",
       "    .dataframe tbody tr th:only-of-type {\n",
       "        vertical-align: middle;\n",
       "    }\n",
       "\n",
       "    .dataframe tbody tr th {\n",
       "        vertical-align: top;\n",
       "    }\n",
       "\n",
       "    .dataframe thead th {\n",
       "        text-align: right;\n",
       "    }\n",
       "</style>\n",
       "<table border=\"1\" class=\"dataframe\">\n",
       "  <thead>\n",
       "    <tr style=\"text-align: right;\">\n",
       "      <th></th>\n",
       "      <th>event_id</th>\n",
       "      <th>app_id</th>\n",
       "      <th>is_installed</th>\n",
       "      <th>is_active</th>\n",
       "      <th>device_id</th>\n",
       "      <th>date</th>\n",
       "    </tr>\n",
       "  </thead>\n",
       "  <tbody>\n",
       "    <tr>\n",
       "      <th>count</th>\n",
       "      <td>1.739053e+06</td>\n",
       "      <td>1.739053e+06</td>\n",
       "      <td>1739053.0</td>\n",
       "      <td>1.739053e+06</td>\n",
       "      <td>1.739053e+06</td>\n",
       "      <td>1.739053e+06</td>\n",
       "    </tr>\n",
       "    <tr>\n",
       "      <th>mean</th>\n",
       "      <td>1.628116e+06</td>\n",
       "      <td>6.414748e+02</td>\n",
       "      <td>1.0</td>\n",
       "      <td>3.798740e-01</td>\n",
       "      <td>2.161487e+04</td>\n",
       "      <td>4.021011e+00</td>\n",
       "    </tr>\n",
       "    <tr>\n",
       "      <th>std</th>\n",
       "      <td>9.390069e+05</td>\n",
       "      <td>1.214213e+03</td>\n",
       "      <td>0.0</td>\n",
       "      <td>4.853554e-01</td>\n",
       "      <td>9.361960e+02</td>\n",
       "      <td>1.974944e+00</td>\n",
       "    </tr>\n",
       "    <tr>\n",
       "      <th>min</th>\n",
       "      <td>3.900000e+01</td>\n",
       "      <td>0.000000e+00</td>\n",
       "      <td>1.0</td>\n",
       "      <td>0.000000e+00</td>\n",
       "      <td>2.000000e+04</td>\n",
       "      <td>0.000000e+00</td>\n",
       "    </tr>\n",
       "    <tr>\n",
       "      <th>25%</th>\n",
       "      <td>8.135440e+05</td>\n",
       "      <td>7.200000e+01</td>\n",
       "      <td>1.0</td>\n",
       "      <td>0.000000e+00</td>\n",
       "      <td>2.081200e+04</td>\n",
       "      <td>2.000000e+00</td>\n",
       "    </tr>\n",
       "    <tr>\n",
       "      <th>50%</th>\n",
       "      <td>1.628166e+06</td>\n",
       "      <td>2.150000e+02</td>\n",
       "      <td>1.0</td>\n",
       "      <td>0.000000e+00</td>\n",
       "      <td>2.163800e+04</td>\n",
       "      <td>4.000000e+00</td>\n",
       "    </tr>\n",
       "    <tr>\n",
       "      <th>75%</th>\n",
       "      <td>2.444281e+06</td>\n",
       "      <td>6.520000e+02</td>\n",
       "      <td>1.0</td>\n",
       "      <td>1.000000e+00</td>\n",
       "      <td>2.245400e+04</td>\n",
       "      <td>6.000000e+00</td>\n",
       "    </tr>\n",
       "    <tr>\n",
       "      <th>max</th>\n",
       "      <td>3.252926e+06</td>\n",
       "      <td>1.373600e+04</td>\n",
       "      <td>1.0</td>\n",
       "      <td>1.000000e+00</td>\n",
       "      <td>2.328900e+04</td>\n",
       "      <td>8.000000e+00</td>\n",
       "    </tr>\n",
       "  </tbody>\n",
       "</table>\n",
       "</div>"
      ],
      "text/plain": [
       "           event_id        app_id  is_installed     is_active     device_id  \\\n",
       "count  1.739053e+06  1.739053e+06     1739053.0  1.739053e+06  1.739053e+06   \n",
       "mean   1.628116e+06  6.414748e+02           1.0  3.798740e-01  2.161487e+04   \n",
       "std    9.390069e+05  1.214213e+03           0.0  4.853554e-01  9.361960e+02   \n",
       "min    3.900000e+01  0.000000e+00           1.0  0.000000e+00  2.000000e+04   \n",
       "25%    8.135440e+05  7.200000e+01           1.0  0.000000e+00  2.081200e+04   \n",
       "50%    1.628166e+06  2.150000e+02           1.0  0.000000e+00  2.163800e+04   \n",
       "75%    2.444281e+06  6.520000e+02           1.0  1.000000e+00  2.245400e+04   \n",
       "max    3.252926e+06  1.373600e+04           1.0  1.000000e+00  2.328900e+04   \n",
       "\n",
       "               date  \n",
       "count  1.739053e+06  \n",
       "mean   4.021011e+00  \n",
       "std    1.974944e+00  \n",
       "min    0.000000e+00  \n",
       "25%    2.000000e+00  \n",
       "50%    4.000000e+00  \n",
       "75%    6.000000e+00  \n",
       "max    8.000000e+00  "
      ]
     },
     "execution_count": 12,
     "metadata": {},
     "output_type": "execute_result"
    }
   ],
   "source": [
    "data_test_events.describe()"
   ]
  },
  {
   "cell_type": "markdown",
   "metadata": {},
   "source": [
    "### 1.3.1 提取用户活跃系数"
   ]
  },
  {
   "cell_type": "markdown",
   "metadata": {},
   "source": [
    "用户活跃系数由$c_i$和$a_i$来描述，其中连续因子$c_i$表示设备连续活跃天数（中断则重新计算），$a_i$表示设备第i天的活跃次数。则活跃系数$A$由以下公式定义：\n",
    "\n",
    "$$A=\\frac{1}{N}\\sum_{i=0}^Na_ic_i$$\n",
    "\n",
    "活跃系数将作为特征字段active_index存入训练数据表。由于尺度可能会偏大，所以考虑做归一化处理。"
   ]
  },
  {
   "cell_type": "code",
   "execution_count": 14,
   "metadata": {},
   "outputs": [],
   "source": [
    "data_test_events_gb = data_test_events.groupby(['device_id','date'])['event_id'].count()\n",
    "# data_test_events_gb"
   ]
  },
  {
   "cell_type": "markdown",
   "metadata": {},
   "source": [
    "下面提取每台设备的活跃系数，在训练集中插入为active_index："
   ]
  },
  {
   "cell_type": "code",
   "execution_count": 15,
   "metadata": {},
   "outputs": [
    {
     "data": {
      "text/html": [
       "<div>\n",
       "<style scoped>\n",
       "    .dataframe tbody tr th:only-of-type {\n",
       "        vertical-align: middle;\n",
       "    }\n",
       "\n",
       "    .dataframe tbody tr th {\n",
       "        vertical-align: top;\n",
       "    }\n",
       "\n",
       "    .dataframe thead th {\n",
       "        text-align: right;\n",
       "    }\n",
       "</style>\n",
       "<table border=\"1\" class=\"dataframe\">\n",
       "  <thead>\n",
       "    <tr style=\"text-align: right;\">\n",
       "      <th></th>\n",
       "      <th>device_id</th>\n",
       "      <th>phone_brand</th>\n",
       "      <th>device_model</th>\n",
       "      <th>active_index</th>\n",
       "    </tr>\n",
       "  </thead>\n",
       "  <tbody>\n",
       "    <tr>\n",
       "      <th>0</th>\n",
       "      <td>20000</td>\n",
       "      <td>0.034091</td>\n",
       "      <td>0.063784</td>\n",
       "      <td>471</td>\n",
       "    </tr>\n",
       "    <tr>\n",
       "      <th>1</th>\n",
       "      <td>20001</td>\n",
       "      <td>0.034091</td>\n",
       "      <td>0.063784</td>\n",
       "      <td>354</td>\n",
       "    </tr>\n",
       "    <tr>\n",
       "      <th>2</th>\n",
       "      <td>20002</td>\n",
       "      <td>0.000000</td>\n",
       "      <td>0.010811</td>\n",
       "      <td>1607</td>\n",
       "    </tr>\n",
       "    <tr>\n",
       "      <th>3</th>\n",
       "      <td>20003</td>\n",
       "      <td>0.420455</td>\n",
       "      <td>0.817297</td>\n",
       "      <td>1005</td>\n",
       "    </tr>\n",
       "    <tr>\n",
       "      <th>4</th>\n",
       "      <td>20004</td>\n",
       "      <td>0.022727</td>\n",
       "      <td>0.003243</td>\n",
       "      <td>2495</td>\n",
       "    </tr>\n",
       "  </tbody>\n",
       "</table>\n",
       "</div>"
      ],
      "text/plain": [
       "   device_id  phone_brand  device_model  active_index\n",
       "0      20000     0.034091      0.063784           471\n",
       "1      20001     0.034091      0.063784           354\n",
       "2      20002     0.000000      0.010811          1607\n",
       "3      20003     0.420455      0.817297          1005\n",
       "4      20004     0.022727      0.003243          2495"
      ]
     },
     "execution_count": 15,
     "metadata": {},
     "output_type": "execute_result"
    }
   ],
   "source": [
    "c = [0 for i in range(0,9)] #连续系数\n",
    "a = [0 for i in range(0,9)] #活跃次数\n",
    "A = np.array([0 for i in range(0,data_test['device_id'].unique().shape[0])])\n",
    "for i,di in enumerate(data_test['device_id'].unique()):\n",
    "# for i in range(0,data_test['device_id'].unique().shape[0]):\n",
    "    active_date_ls = []\n",
    "    if isinstance(data_test_events_gb[di],int):\n",
    "        active_date_ls = [data_test_events_gb[di]]\n",
    "    elif isinstance(data_test_events_gb[di],np.int64):\n",
    "        active_date_ls = [int(data_test_events_gb[di])]\n",
    "    else:\n",
    "        active_date_ls = data_test_events_gb[di].index.tolist()\n",
    "    ac_date = [1 if d in active_date_ls else 0 for d in range(0,8)]\n",
    "    \n",
    "    # 连续系数\n",
    "    ct = 0 #连续次数\n",
    "    for j in range(1,8):\n",
    "        if ac_date[j]==1 and ac_date[j-1]==1:\n",
    "            ct+=1.0\n",
    "        elif ac_date[j]==1:\n",
    "            ct = 1.0\n",
    "        else:\n",
    "            ct = 0\n",
    "        c[j] = 1.0+0.1*ct\n",
    "    \n",
    "#   每日事件数  ai = data_train_events_gb[device_id,day]\n",
    "    a_d = [data_test_events_gb[di,d] for d in active_date_ls]  \n",
    "    for d in range(0,len(active_date_ls)):\n",
    "        a[active_date_ls[d]] = a_d[d]\n",
    "    \n",
    "    A[i] = np.sum(np.array(a)*np.array(c))\n",
    "    \n",
    "# active_index = ai*ci\n",
    "data_test['active_index'] = pd.Series(A)\n",
    "data_test.head()"
   ]
  },
  {
   "cell_type": "markdown",
   "metadata": {},
   "source": [
    "对active_index做一个归一化"
   ]
  },
  {
   "cell_type": "code",
   "execution_count": 16,
   "metadata": {},
   "outputs": [],
   "source": [
    "mmin = data_test['active_index'].min()\n",
    "mmax = data_test['active_index'].max()\n",
    "data_test['active_index'] = data_test['active_index'].apply(min_max,args=(mmin,mmax))"
   ]
  },
  {
   "cell_type": "code",
   "execution_count": 17,
   "metadata": {},
   "outputs": [
    {
     "name": "stdout",
     "output_type": "stream",
     "text": [
      "59 59293\n"
     ]
    }
   ],
   "source": [
    "print(mmin,mmax)"
   ]
  },
  {
   "cell_type": "markdown",
   "metadata": {},
   "source": [
    "### 1.2.2 提取用户偏好"
   ]
  },
  {
   "cell_type": "markdown",
   "metadata": {},
   "source": [
    "#### 1.2.2.1 偏好系数\n",
    "\n",
    "定义偏好系数pre_index如下：\n",
    "\n",
    "$$pre\\_index=\\sum (is\\_installed+1.5is\\_active)$$"
   ]
  },
  {
   "cell_type": "code",
   "execution_count": 18,
   "metadata": {},
   "outputs": [],
   "source": [
    "def generate_preIndex(row):\n",
    "    is_installed = data_test_events[data_test_events['device_id']==row]['is_installed']\n",
    "    is_active = data_test_events[data_test_events['device_id']==row]['is_active']\n",
    "#     print((is_installed + 1.5 * is_active).sum())\n",
    "    return (is_installed + 1.5 * is_active).sum()"
   ]
  },
  {
   "cell_type": "code",
   "execution_count": 19,
   "metadata": {},
   "outputs": [
    {
     "data": {
      "text/plain": [
       "count     3290.000000\n",
       "mean       829.782523\n",
       "std       2082.793402\n",
       "min          3.500000\n",
       "25%        111.000000\n",
       "50%        312.000000\n",
       "75%        852.250000\n",
       "max      59742.500000\n",
       "Name: pre_index, dtype: float64"
      ]
     },
     "execution_count": 19,
     "metadata": {},
     "output_type": "execute_result"
    }
   ],
   "source": [
    "data_test['pre_index'] = data_test['device_id'].apply(generate_preIndex)\n",
    "data_test['pre_index'].describe()"
   ]
  },
  {
   "cell_type": "markdown",
   "metadata": {},
   "source": [
    "从标准差可以看出，不同设备之间的偏好系数差别很大，数值越大越离散。\n",
    "\n",
    "对pre_index进行标准化："
   ]
  },
  {
   "cell_type": "code",
   "execution_count": 20,
   "metadata": {},
   "outputs": [
    {
     "data": {
      "text/html": [
       "<div>\n",
       "<style scoped>\n",
       "    .dataframe tbody tr th:only-of-type {\n",
       "        vertical-align: middle;\n",
       "    }\n",
       "\n",
       "    .dataframe tbody tr th {\n",
       "        vertical-align: top;\n",
       "    }\n",
       "\n",
       "    .dataframe thead th {\n",
       "        text-align: right;\n",
       "    }\n",
       "</style>\n",
       "<table border=\"1\" class=\"dataframe\">\n",
       "  <thead>\n",
       "    <tr style=\"text-align: right;\">\n",
       "      <th></th>\n",
       "      <th>device_id</th>\n",
       "      <th>phone_brand</th>\n",
       "      <th>device_model</th>\n",
       "      <th>active_index</th>\n",
       "      <th>pre_index</th>\n",
       "    </tr>\n",
       "  </thead>\n",
       "  <tbody>\n",
       "    <tr>\n",
       "      <th>0</th>\n",
       "      <td>20000</td>\n",
       "      <td>0.034091</td>\n",
       "      <td>0.063784</td>\n",
       "      <td>0.006955</td>\n",
       "      <td>0.010178</td>\n",
       "    </tr>\n",
       "    <tr>\n",
       "      <th>1</th>\n",
       "      <td>20001</td>\n",
       "      <td>0.034091</td>\n",
       "      <td>0.063784</td>\n",
       "      <td>0.004980</td>\n",
       "      <td>0.005842</td>\n",
       "    </tr>\n",
       "    <tr>\n",
       "      <th>2</th>\n",
       "      <td>20002</td>\n",
       "      <td>0.000000</td>\n",
       "      <td>0.010811</td>\n",
       "      <td>0.026134</td>\n",
       "      <td>0.020322</td>\n",
       "    </tr>\n",
       "    <tr>\n",
       "      <th>3</th>\n",
       "      <td>20003</td>\n",
       "      <td>0.420455</td>\n",
       "      <td>0.817297</td>\n",
       "      <td>0.015971</td>\n",
       "      <td>0.001984</td>\n",
       "    </tr>\n",
       "    <tr>\n",
       "      <th>4</th>\n",
       "      <td>20004</td>\n",
       "      <td>0.022727</td>\n",
       "      <td>0.003243</td>\n",
       "      <td>0.041125</td>\n",
       "      <td>0.074750</td>\n",
       "    </tr>\n",
       "  </tbody>\n",
       "</table>\n",
       "</div>"
      ],
      "text/plain": [
       "   device_id  phone_brand  device_model  active_index  pre_index\n",
       "0      20000     0.034091      0.063784      0.006955   0.010178\n",
       "1      20001     0.034091      0.063784      0.004980   0.005842\n",
       "2      20002     0.000000      0.010811      0.026134   0.020322\n",
       "3      20003     0.420455      0.817297      0.015971   0.001984\n",
       "4      20004     0.022727      0.003243      0.041125   0.074750"
      ]
     },
     "execution_count": 20,
     "metadata": {},
     "output_type": "execute_result"
    }
   ],
   "source": [
    "mmin = data_test['pre_index'].min()\n",
    "mmax = data_test['pre_index'].max()\n",
    "data_test['pre_index'] = data_test['pre_index'].apply(min_max,args=(mmin,mmax))\n",
    "data_test.head()"
   ]
  },
  {
   "cell_type": "markdown",
   "metadata": {},
   "source": [
    "#### 1.2.2.2 各类型app的偏好情况\n",
    "\n",
    "使用预训练的KMeans模型，根据tag_list将app分为20类。通过偏好系数来衡量用户对某类app的偏好程度。\n",
    "\n",
    "首先载入KMeans模型："
   ]
  },
  {
   "cell_type": "code",
   "execution_count": 21,
   "metadata": {},
   "outputs": [],
   "source": [
    "mbk = get_pickle('KNN_appType_completed.pkl')"
   ]
  },
  {
   "cell_type": "code",
   "execution_count": 22,
   "metadata": {},
   "outputs": [],
   "source": [
    "'''\n",
    "功能：1.发现app_type 2.在X的基础上添加每类app的偏好系数\n",
    "X：数据集，array\n",
    "return：X_1，array\n",
    "'''\n",
    "def pre_treatment(X, quick_pattern = True):    \n",
    "    # 将tag_list转换为特征矩阵\n",
    "#     array_tag = get_arr_tag(X)\n",
    "    # 创建array\n",
    "    device_id_list = list(tuple(int(i)for i in X[:,0]))\n",
    "\n",
    "    # 取出训练集范围的标签列表\n",
    "    af = data_test_events[data_test_events['device_id'].isin(device_id_list)].reset_index(drop=True)\n",
    "\n",
    "    w = 26\n",
    "    h = af.shape[0]\n",
    "    array_tag = np.zeros([h,w])\n",
    "\n",
    "    # tag_list标签最值\n",
    "    mmin = 1\n",
    "    mmax = 1021\n",
    "    \n",
    "    # 获取app特征矩阵\n",
    "    for i in range(0,af.shape[0]):\n",
    "        tag_list = af.loc[i,'tag_list']\n",
    "        r = tag_list[1:-1].split(',')\n",
    "        li = [min_max(int(s),mmin,mmax) for s in r] #归一化\n",
    "        for j in range(0,len(li)):\n",
    "            array_tag[i][j] = li[j]\n",
    "        \n",
    "    # 生成app_type\n",
    "    n_clusters = 20\n",
    "    random_state = 17\n",
    "    batch_size = 100\n",
    "\n",
    "    mbm_pred = mbk.predict(array_tag)\n",
    "    af['app_type'] = pd.Series(mbm_pred)\n",
    "    \n",
    "    \n",
    "    # 生成每种app的偏好系数\n",
    "    af['pre_index'] = af['is_installed'] + 1.5 * af['is_active']\n",
    "    pre_index_sum = af.groupby(['device_id','app_type'])['pre_index'].agg(np.sum)\n",
    "\n",
    "    t_arr = np.zeros([X.shape[0],20])\n",
    "    for i in range(0,X.shape[0]):\n",
    "        did = int(X[i][0])\n",
    "        for j_i,j in enumerate(list(pre_index_sum[did].index)):\n",
    "            t_arr[i][j] = pre_index_sum[did].values[j_i]\n",
    "\n",
    "    # 归一化\n",
    "    for i in range(0,t_arr.shape[0]):\n",
    "        t_arr[i,:] = (t_arr[i,:] - np.min(t_arr[i,:])) / (np.max(t_arr[i,:]) - np.min(t_arr[i,:]))\n",
    "\n",
    "    # 合并\n",
    "    X_1 = np.c_[X,t_arr]\n",
    "\n",
    "    # 删除第一列\n",
    "    X_1 = np.delete(X_1, 0, axis=1)\n",
    "    X_1[0,:]\n",
    "    \n",
    "    return X_1"
   ]
  },
  {
   "cell_type": "code",
   "execution_count": 23,
   "metadata": {},
   "outputs": [],
   "source": [
    "X_1 = pre_treatment(data_test.values)"
   ]
  },
  {
   "cell_type": "markdown",
   "metadata": {},
   "source": [
    "# 2 任务一：性别预测"
   ]
  },
  {
   "cell_type": "markdown",
   "metadata": {},
   "source": [
    "性别是标量，做个二分类就行。\n",
    "\n",
    "训练时发现在当前任务中，KNN的表现比决策树较好，因此使用KNN模型对性别进行预测。"
   ]
  },
  {
   "cell_type": "markdown",
   "metadata": {},
   "source": [
    "导入模型："
   ]
  },
  {
   "cell_type": "code",
   "execution_count": 30,
   "metadata": {},
   "outputs": [],
   "source": [
    "from sklearn.neighbors import KNeighborsClassifier"
   ]
  },
  {
   "cell_type": "code",
   "execution_count": 25,
   "metadata": {},
   "outputs": [],
   "source": [
    "# 读取\n",
    "knn = get_pickle('KNeighborsClassifier.model')"
   ]
  },
  {
   "cell_type": "markdown",
   "metadata": {},
   "source": [
    "预测："
   ]
  },
  {
   "cell_type": "code",
   "execution_count": 26,
   "metadata": {},
   "outputs": [],
   "source": [
    "# knn_pred = knn.predict(X_holdout)\n",
    "knn_pred = knn.predict(X_1)"
   ]
  },
  {
   "cell_type": "markdown",
   "metadata": {},
   "source": [
    "## 2.2 年龄预测模型"
   ]
  },
  {
   "cell_type": "markdown",
   "metadata": {},
   "source": [
    "### 2.2.1 简单线性回归"
   ]
  },
  {
   "cell_type": "markdown",
   "metadata": {},
   "source": [
    "导入模型："
   ]
  },
  {
   "cell_type": "code",
   "execution_count": 27,
   "metadata": {},
   "outputs": [],
   "source": [
    "from sklearn.linear_model import LinearRegression"
   ]
  },
  {
   "cell_type": "code",
   "execution_count": 38,
   "metadata": {},
   "outputs": [],
   "source": [
    "lin_reg = get_pickle('LinearRegression.model')"
   ]
  },
  {
   "cell_type": "markdown",
   "metadata": {},
   "source": [
    "预测："
   ]
  },
  {
   "cell_type": "code",
   "execution_count": 49,
   "metadata": {},
   "outputs": [],
   "source": [
    "from sklearn.metrics import accuracy_score,mean_absolute_error"
   ]
  },
  {
   "cell_type": "code",
   "execution_count": 31,
   "metadata": {},
   "outputs": [
    {
     "data": {
      "text/plain": [
       "array([30.10944992, 32.43495907, 29.00769376, ..., 30.11350357,\n",
       "       33.83719556, 32.07568993])"
      ]
     },
     "execution_count": 31,
     "metadata": {},
     "output_type": "execute_result"
    }
   ],
   "source": [
    "# linreg_pred = lin_reg.predict(X_holdout)\n",
    "linreg_pred = lin_reg.predict(X_1)\n",
    "linreg_pred"
   ]
  },
  {
   "cell_type": "markdown",
   "metadata": {},
   "source": [
    "### 2.2.2 多元线性回归"
   ]
  },
  {
   "cell_type": "code",
   "execution_count": 27,
   "metadata": {},
   "outputs": [],
   "source": [
    "# import\n",
    "from sklearn.linear_model import SGDRegressor\n",
    "from sklearn.model_selection import cross_val_score\n",
    "from sklearn.preprocessing import StandardScaler"
   ]
  },
  {
   "cell_type": "markdown",
   "metadata": {},
   "source": [
    "导入模型："
   ]
  },
  {
   "cell_type": "code",
   "execution_count": 39,
   "metadata": {},
   "outputs": [],
   "source": [
    "regressor = get_pickle('SGDRegressor.model')"
   ]
  },
  {
   "cell_type": "markdown",
   "metadata": {},
   "source": [
    "对测试集进行Z-score标准化："
   ]
  },
  {
   "cell_type": "code",
   "execution_count": 40,
   "metadata": {},
   "outputs": [],
   "source": [
    "X_scaler = StandardScaler()\n",
    "X_scaler.fit(X_1)\n",
    "X_test_scaled = X_scaler.transform(X_1)"
   ]
  },
  {
   "cell_type": "markdown",
   "metadata": {},
   "source": [
    "预测："
   ]
  },
  {
   "cell_type": "code",
   "execution_count": 30,
   "metadata": {},
   "outputs": [
    {
     "data": {
      "text/plain": [
       "array([-0.1271872 , -0.09206262, -0.34765111, ..., -0.21018585,\n",
       "        0.07282458, -0.01031541])"
      ]
     },
     "execution_count": 30,
     "metadata": {},
     "output_type": "execute_result"
    }
   ],
   "source": [
    "reg_pred_scaled = regressor.predict(X_test_scaled)\n",
    "reg_pred_scaled"
   ]
  },
  {
   "cell_type": "markdown",
   "metadata": {},
   "source": [
    "将预测结果映射回原先的取值域："
   ]
  },
  {
   "cell_type": "code",
   "execution_count": 34,
   "metadata": {},
   "outputs": [],
   "source": [
    "y_scaler = get_pickle('y_scaler.model')"
   ]
  },
  {
   "cell_type": "code",
   "execution_count": 35,
   "metadata": {},
   "outputs": [
    {
     "data": {
      "text/plain": [
       "array([31., 32., 29., ..., 30., 33., 32.])"
      ]
     },
     "execution_count": 35,
     "metadata": {},
     "output_type": "execute_result"
    }
   ],
   "source": [
    "np.round(y_scaler.inverse_transform(reg_pred_scaled))"
   ]
  },
  {
   "cell_type": "markdown",
   "metadata": {},
   "source": [
    "刚开始使用的是标签标准化后训练得到的模型，但测试集和训练集的值域毕竟不同，使用训练集的ScaleStandard去还原预测数据可能会有问题，所以又试了未标准化标签的模型（如下），但是最终得分居然差不多。"
   ]
  },
  {
   "cell_type": "code",
   "execution_count": null,
   "metadata": {},
   "outputs": [],
   "source": [
    "regressor = get_pickle('SGDRegressor.model')\n",
    "\n",
    "X_scaler = StandardScaler()\n",
    "X_scaler.fit(X_1)\n",
    "X_test_scaled = X_scaler.transform(X_1)\n",
    "\n",
    "reg_pred = regressor.predict(X_test_scaled)\n",
    "reg_pred"
   ]
  },
  {
   "cell_type": "markdown",
   "metadata": {},
   "source": [
    "## 3 导出结果"
   ]
  },
  {
   "cell_type": "code",
   "execution_count": 36,
   "metadata": {},
   "outputs": [],
   "source": [
    "def generate_submit_file(gender_pred, age_pred, path):\n",
    "    c = np.array([np.array(data_test['device_id'].tolist()),gender_pred,np.round(age_pred)]).T\n",
    "    out = pd.DataFrame(c,columns=['device_id','gender','age'])\n",
    "    \n",
    "    out['device_id'] = out['device_id'].astype('int64')\n",
    "    out['gender'] = out['gender'].astype('int64')\n",
    "    out['age'] = out['age'].astype('int64')\n",
    "    \n",
    "    out.to_csv(path,index=False)"
   ]
  },
  {
   "cell_type": "code",
   "execution_count": 42,
   "metadata": {},
   "outputs": [],
   "source": [
    "out_fn = 'submit.csv'\n",
    "# generate_submit_file(knn_pred,np.round(y_scaler.inverse_transform(reg_pred_scaled)),root_path + out_fn)\n",
    "generate_submit_file(knn_pred,np.round(reg_pred),root_path + out_fn)"
   ]
  },
  {
   "cell_type": "code",
   "execution_count": null,
   "metadata": {},
   "outputs": [],
   "source": []
  }
 ],
 "metadata": {
  "kernelspec": {
   "display_name": "Python 3",
   "language": "python",
   "name": "python3"
  },
  "language_info": {
   "codemirror_mode": {
    "name": "ipython",
    "version": 3
   },
   "file_extension": ".py",
   "mimetype": "text/x-python",
   "name": "python",
   "nbconvert_exporter": "python",
   "pygments_lexer": "ipython3",
   "version": "3.7.3"
  }
 },
 "nbformat": 4,
 "nbformat_minor": 2
}
